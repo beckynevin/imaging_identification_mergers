{
 "cells": [
  {
   "cell_type": "code",
   "execution_count": 1,
   "metadata": {
    "collapsed": false
   },
   "outputs": [
    {
     "data": {
      "text/plain": [
       "'This code needs to take the Image_CAS_gini_M20 output (which includes r_e)\\nas well as the output from the Summit velocity maps and make an input to kinemetry\\nwith a hexagonal mask'"
      ]
     },
     "execution_count": 1,
     "metadata": {},
     "output_type": "execute_result"
    }
   ],
   "source": [
    "'''This code needs to take the Image_CAS_gini_M20 output (which includes r_e)\n",
    "as well as the output from the Summit velocity maps and make an input to kinemetry\n",
    "with a hexagonal mask'''\n"
   ]
  },
  {
   "cell_type": "code",
   "execution_count": 1,
   "metadata": {
    "collapsed": false
   },
   "outputs": [
    {
     "name": "stdout",
     "output_type": "stream",
     "text": [
      "/Volumes/My Passport for Mac/LAURA_Sims\n"
     ]
    }
   ],
   "source": [
    "import os\n",
    "import pyfits\n",
    "import numpy as np\n",
    "import matplotlib.pyplot as plt\n",
    "import numpy.ma as ma\n",
    "from astropy.cosmology import WMAP9 as cosmo\n",
    "print(os.getcwd())"
   ]
  },
  {
   "cell_type": "code",
   "execution_count": 97,
   "metadata": {
    "collapsed": false
   },
   "outputs": [
    {
     "name": "stdout",
     "output_type": "stream",
     "text": [
      "30.62\n",
      "92.6069 +/- 0.0157\n",
      "92.3732 +/- 0.0109\n",
      "XTENSION= 'IMAGE   '           / IMAGE extension                                BITPIX  =                  -32 / Bits per pixel                                 NAXIS   =                    2 / Number of axes                                 NAXIS1  =                  182 / Length of data axis 1                          NAXIS2  =                  182 / Length of data axis 2                          OBJECT  = 'model   '           / Component type                                 COMMENT ========== GALFIT Input Parameters ==========                           INITFILE= 'galfit.feedme_0_200' / GALFIT input file                             DATAIN  = 'out_convolved_0_200.fits' / Input data image                         SIGMA   = 'out_sigma_convolved_0_200.fits' / Input sigma image                  PSF     = 'none    '           / Convolution PSF and kernel                     CONSTRNT= 'none    '           / Parameter constraint file                      MASK    = 'none    '           / Input mask image                               FITSECT = '[1:182,1:182]'      / Image section fitted                           CONVBOX = '182, 182'           / Convolution box size                           MAGZPT  =               26.563 / Magnitude zeropoint                            COMMENT ========== GALFIT Final Parameters ==========                           COMP_1  = 'sersic  '           / Component type                                 1_XC    = '92.6069 +/- 0.0157' / X center [pixel]                               1_YC    = '92.3732 +/- 0.0109' / Y center [pixel]                               1_MAG   = '11.6074 +/- 0.0069' / Integrated magnitude [mag]                     1_RE    = '30.6294 +/- 0.2703' / Effective radius Re [pixels]                   1_N     = '2.2537 +/- 0.0134'  / Sersic index                                   1_AR    = '0.6696 +/- 0.0015'  / Axis ratio (b/a)                               1_PA    = '-73.4419 +/- 0.2238' / Position Angle (PA) [degrees: Up=0, Left=90]  COMMENT ------------------------------------------------------------------------COMP_2  = 'sky     '           / Component type                                 2_XC    = '[91.5000]'          / X center [pixel]                               2_YC    = '[91.5000]'          / Y center [pixel]                               2_SKY   = '3.3295 +/- 0.1064'  / Sky background [ADUs]                          2_DSDX  = '[0.000e+00]'        / x sky gradient [ADUs]                          2_DSDY  = '[0.000e+00]'        / y sky gradient [ADUs]                          COMMENT ------------------------------------------------------------------------FLAGS   = 'A-6 H-3 H-4 H-1 A-2 A-4 ' / See `galfit -help' for details.          COMMENT ------------------------------------------------------------------------CHISQ   =     183114.682772715 / Chi^2 of fit                                   NDOF    =                33116 / Degrees of freedom                             NFREE   =                    8 / Number of free parameters                      NFIX    =                    2 / Number of fixed parameters                     CHI2NU  =             5.529493 / Reduced Chi^2                                  LOGFILE = 'galfit.826'         / Output logfile                                 COMMENT =============================================                           COMMENT                                                                         END                                                                                                                                                                                                                                                                                                                                                                                                                                                                                                                                                                                                                                                                                                                                                                                                                                                                                                                                                                                                                                                                                                                                                                                                                                                                                                                                                                                                                                                                                                                                                                                                                                                                                                                                                                                                                                                                                                                                                                                                                                                                                                                                                                                                                                                                                                                                                                                                             \n",
      "size of a pixel in arcsec 0.2746988752967151\n",
      "2*r_e in arcsec 25.23383868475625\n"
     ]
    }
   ],
   "source": [
    "\n",
    "os.chdir(os.path.expanduser('/Volumes/My Passport For Mac/LAURA_SIMS'))\n",
    "view=0\n",
    "output_number=200\n",
    "\n",
    "output='GALFIT_folder/out_'+str(view)+'_'+str(output_number)+'.fits'\n",
    "out=pyfits.open(output)\n",
    "r_e=out[2].header['1_RE']\n",
    "#print(out[2].header)\n",
    "print(float(r_e[0:5]))\n",
    "\n",
    "'''also figure out where the center is'''\n",
    "print(out[2].header['1_XC'])\n",
    "print(out[2].header['1_YC'])\n",
    "\n",
    "print(out[2].header)\n",
    "\n",
    "\n",
    "'''But this effective radius is in pixels, so how do we convert it to arcsec?'''\n",
    "redshift=0.03\n",
    "kpc_arcmin=cosmo.kpc_proper_per_arcmin(redshift)#insert the redshift  \n",
    "    #print(kpc_arcmin.value/60, 'kpc per arcsec')\n",
    "'''Divide the pixelscale (kpc) by kpc/arcsec to get arcsec\n",
    "    size of pixels'''\n",
    "image='q0.5_fg0.3_allrx10/broadband_'+str(output_number)+'.fits'\n",
    "im=pyfits.open(image)\n",
    "pixelscale =  im['CAMERA'+str(view)+'-BROADBAND'].header['CD1_1']\n",
    "size_a=pixelscale/(kpc_arcmin.value/60)\n",
    "print('size of a pixel in arcsec', size_a)\n",
    "print('2*r_e in arcsec',1.5*2*float(r_e[0:5])*size_a)\n",
    "arcs_totes=1.5*2*float(r_e[0:5])*size_a\n",
    "#kinemetry_input_append_x.txt"
   ]
  },
  {
   "cell_type": "code",
   "execution_count": 98,
   "metadata": {
    "collapsed": false
   },
   "outputs": [
    {
     "name": "stdout",
     "output_type": "stream",
     "text": [
      "61 fibers diameter 22.5\n"
     ]
    }
   ],
   "source": [
    "if arcs_totes > 32.5:\n",
    "    n_fibers=127\n",
    "    dia = 32.5\n",
    "else:\n",
    "    if arcs_totes > 27.5:\n",
    "        n_fibers=91\n",
    "        dia = 27.5\n",
    "    else:\n",
    "        if arcs_totes > 22.5:\n",
    "            n_fibers=61\n",
    "            dia=22.5\n",
    "        else:\n",
    "            if arcs_totes > 17.5:\n",
    "                n_fibers=37\n",
    "                dia=17.5\n",
    "            else:\n",
    "                n_fibers=19\n",
    "                dia = 12.5\n",
    "print(n_fibers,'fibers', 'diameter', dia)"
   ]
  },
  {
   "cell_type": "code",
   "execution_count": 99,
   "metadata": {
    "collapsed": false
   },
   "outputs": [
    {
     "name": "stdout",
     "output_type": "stream",
     "text": [
      "/Volumes/My Passport for Mac/LAURA_Sims\n",
      "/Volumes/My Passport for Mac/LAURA_Sims/q0.5_fg0.3_allrx10_sunruns/hirestest_kin/Figs\n"
     ]
    }
   ],
   "source": [
    "'''extract a square around the center of the velocity map'''\n",
    "print(os.getcwd())\n",
    "os.chdir(os.path.expanduser('/Volumes/My Passport for Mac/LAURA_Sims/q0.5_fg0.3_allrx10_sunruns/hirestest_kin/Figs')) # path to the simulated images\n",
    "print(os.getcwd())\n",
    "old_kin='kinemetry_input_append_51_0.txt'\n",
    "size=183"
   ]
  },
  {
   "cell_type": "code",
   "execution_count": 100,
   "metadata": {
    "collapsed": false
   },
   "outputs": [],
   "source": [
    "\n",
    "with open(old_kin, 'r') as f:\n",
    "    data = f.readlines()\n",
    "    #print(data)\n",
    "    stel_vel=np.zeros((size,size))\n",
    "    stel_vel_e=np.zeros((size,size))\n",
    "    stel_disp=np.zeros((size,size))\n",
    "    stel_disp_e=np.zeros((size,size))\n",
    "    \n",
    "    x_list=[]\n",
    "    y_list=[]\n",
    "    vel_list=[]\n",
    "    vel_e_list=[]\n",
    "    sig_list=[]\n",
    "    sig_e_list=[]\n",
    "\n",
    "\n",
    "    for line in data:\n",
    "        words = line.split()\n",
    "\n",
    "        if (words[0]) != 'Beginning':\n",
    "            \n",
    "            x_list.append(float(words[0]))\n",
    "            y_list.append(float(words[1]))\n",
    "            vel_list.append(float(words[2]))\n",
    "            vel_e_list.append(float(words[3]))\n",
    "            sig_list.append(float(words[4]))\n",
    "            sig_e_list.append(float(words[5]))\n",
    "\n",
    "            '''xs=int(round(float(words[0]),0))\n",
    "            ys=int(round(float(words[1]),0))\n",
    "\n",
    "            \n",
    "            if float(words[2]) !=0:\n",
    "\n",
    "                #if float(words[3]) > 0.1:#abs(float(words[3])/float(words[2])) < 0.2:\n",
    "                stel_vel[xs,ys] = float(words[2])\n",
    "                stel_vel_e[xs,ys] = float(words[3])\n",
    "\n",
    "                stel_disp[xs,ys] = float(words[4])\n",
    "                stel_disp_e[xs,ys] = float(words[5])\n",
    "                \n",
    "                \n",
    "                \n",
    "            else:\n",
    "                stel_vel[xs,ys] = 0\n",
    "                stel_vel_e[xs,ys] = 0\n",
    "\n",
    "                stel_disp[xs,ys] = 0\n",
    "                stel_disp_e[xs,ys] = 0\n",
    "plt.imshow(np.flipud(np.rot90(stel_vel)), vmin=-150, vmax=150, cmap='gist_rainbow_r')\n",
    "plt.colorbar()\n",
    "plt.show()\n",
    "\n",
    "cen_x=size/2\n",
    "cen_y=size/2'''"
   ]
  },
  {
   "cell_type": "code",
   "execution_count": 101,
   "metadata": {
    "collapsed": false
   },
   "outputs": [
    {
     "name": "stdout",
     "output_type": "stream",
     "text": [
      "Path(array([[  69.5,   69.5],\n",
      "       [ 113.5,   69.5],\n",
      "       [ 113.5,  113.5],\n",
      "       [  69.5,  113.5]]), None)\n",
      "(33489,)\n",
      "(33489,)\n"
     ]
    }
   ],
   "source": [
    "'''Now, make a mask'''\n",
    "'''\n",
    "Each pixel is 0.5\"\n",
    "We know the map is already centered\n",
    "Try sending the whole thing into kinemetry\n",
    "XBIN = x_cen-x; x_cen is size/2\n",
    "'''\n",
    "\n",
    "'''\n",
    "Argh really not looking forward to possibly constructing a hexagonal mask myself\n",
    "'''\n",
    "\n",
    "\n",
    "from matplotlib import path\n",
    "\n",
    "nx, ny = 10, 10\n",
    "poly_verts = path.Path([(size/2-(dia-0.5),size/2-(dia-0.5)), (size/2+(dia-0.5),size/2-(dia-0.5)),\n",
    "                        (size/2+(dia-0.5),size/2+(dia-0.5)), (size/2-(dia-0.5),size/2+(dia-0.5))])\n",
    "\n",
    "print(poly_verts)\n",
    "xy=np.column_stack((x_list,y_list))\n",
    "\n",
    "inside=poly_verts.contains_points(xy)\n",
    "\n",
    "'''\n",
    "The input to contains_points must be an array with x and y coordinates (blah)\n",
    "'''\n",
    "\n",
    "\n",
    "print(np.shape(inside))\n",
    "print(np.shape(vel_list))"
   ]
  },
  {
   "cell_type": "code",
   "execution_count": 102,
   "metadata": {
    "collapsed": false
   },
   "outputs": [
    {
     "name": "stderr",
     "output_type": "stream",
     "text": [
      "/Users/beckynevin/anaconda/lib/python3.6/site-packages/ipykernel/__main__.py:35: VisibleDeprecationWarning: using a non-integer number instead of an integer will result in an error in the future\n",
      "/Users/beckynevin/anaconda/lib/python3.6/site-packages/ipykernel/__main__.py:36: VisibleDeprecationWarning: using a non-integer number instead of an integer will result in an error in the future\n",
      "/Users/beckynevin/anaconda/lib/python3.6/site-packages/ipykernel/__main__.py:38: VisibleDeprecationWarning: using a non-integer number instead of an integer will result in an error in the future\n",
      "/Users/beckynevin/anaconda/lib/python3.6/site-packages/ipykernel/__main__.py:39: VisibleDeprecationWarning: using a non-integer number instead of an integer will result in an error in the future\n"
     ]
    },
    {
     "data": {
      "image/png": "[encoded data removed]",
      "text/plain": [
       "<matplotlib.figure.Figure at 0x117991e48>"
      ]
     },
     "metadata": {},
     "output_type": "display_data"
    }
   ],
   "source": [
    "'''\n",
    "So now I need to mask out everything that is False in inside\n",
    "'''\n",
    "\n",
    "stel_vel=np.zeros((size,size))\n",
    "stel_vel_e=np.zeros((size,size))\n",
    "stel_disp=np.zeros((size,size))\n",
    "stel_disp_e=np.zeros((size,size))\n",
    "\n",
    "x_list_after=[]\n",
    "y_list_after=[]\n",
    "vel_list_after=[]\n",
    "vel_e_list_after=[]\n",
    "sig_list_after=[]\n",
    "sig_e_list_after=[]\n",
    "\n",
    "for i in range(len(inside)):\n",
    "    if inside[i]==True:\n",
    "        \n",
    "        '''Then do all the stuff'''\n",
    "        x_list_after.append(x_list[i])\n",
    "        y_list_after.append(y_list[i])\n",
    "        vel_list_after.append(vel_list[i])\n",
    "        vel_e_list_after.append(vel_e_list[i])\n",
    "        sig_list_after.append(sig_list[i])\n",
    "        sig_e_list_after.append(sig_e_list[i])\n",
    "\n",
    "        xs=x_list[i]\n",
    "        ys=y_list[i]\n",
    "\n",
    "        '''if float(words[2]) != 0 and float(words[4]) != 0:\n",
    "\n",
    "            if abs(float(words[3])/float(words[2])) < 10 and abs(float(words[5])/float(words[4])) < 10:\n",
    "             '''   \n",
    "        stel_vel[xs,ys] = vel_list[i]\n",
    "        stel_vel_e[xs,ys] = vel_e_list[i]\n",
    "\n",
    "        stel_disp[xs,ys] = sig_list[i]\n",
    "        stel_disp_e[xs,ys] = sig_e_list[i]\n",
    "\n",
    "        '''else:\n",
    "                stel_vel[xs,ys] = 0\n",
    "                stel_vel_e[xs,ys] = 0\n",
    "\n",
    "                stel_disp[xs,ys] = 0\n",
    "                stel_disp_e[xs,ys] = 0'''\n",
    "        \n",
    "        \n",
    "        \n",
    "rotated= stel_vel#np.flipud(np.rot90(\n",
    "rotated=ma.masked_where(rotated==0, rotated)\n",
    "\n",
    "rotated_sig= stel_disp\n",
    "rotated_sig=ma.masked_where(rotated==0, rotated_sig)\n",
    "plt.imshow(rotated, vmin=-100, vmax=100, cmap='gist_rainbow_r')\n",
    "plt.colorbar()\n",
    "plt.xlim([size/2-(dia-0.5),size/2+(dia-0.5)])\n",
    "plt.ylim([size/2-(dia-0.5),size/2+(dia-0.5)])\n",
    "plt.show()\n",
    "\n",
    "cen_x=size/2\n",
    "cen_y=size/2"
   ]
  },
  {
   "cell_type": "code",
   "execution_count": 75,
   "metadata": {
    "collapsed": false
   },
   "outputs": [
    {
     "name": "stdout",
     "output_type": "stream",
     "text": [
      "/Volumes/My Passport for Mac/LAURA_Sims/q0.5_fg0.3_allrx10_sunruns/hirestest_kin/Figs\n"
     ]
    }
   ],
   "source": [
    "#def new_kinemetry(masked, masked_e, masked_d, masked_d_e, middle_x, middle_y):\n",
    "'''\n",
    "x_list.append(float(words[0]))\n",
    "y_list.append(float(words[1]))\n",
    "vel_list.append(float(words[2]))\n",
    "vel_e_list.append(float(words[3]))\n",
    "sig_list.append(float(words[4]))\n",
    "sig_e_list.append(float(words[5]))\n",
    "''' \n",
    "#os.chdir(os.path.expanduser('~/Documents/LAURA_Sims/'))\n",
    "print(os.getcwd())\n",
    "file2=open('../../../kinemetry_input/kinemetry_200_0.txt','w')\n",
    "file2.write('#'+'\\t'+'XBIN'+'\\t'+'YBIN'+'\\t'+'VEL'+'\\t'+'ER_VEL'+'\\t'+'SIG'+'\\t'+'ER_SIG'+'\\n')\n",
    "\n",
    "middle_x=size/2\n",
    "middle_y=size/2\n",
    "\n",
    "counter=1\n",
    "#for j in range(size):\n",
    "'''if str(masked[i,j])== '--':\n",
    "    continue\n",
    "else:'''\n",
    "for i in range(len(x_list_after)):\n",
    "    file2.write(str(counter)+'\\t'+str(x_list_after[i]-middle_x)+'\\t'+str(y_list_after[i]-middle_y)+'\\t')\n",
    "    file2.write(str(vel_list_after[i])+'\\t'+str(vel_e_list_after[i])+'\\t'+str(sig_list_after[i])+'\\t'+str(sig_e_list_after[i])+'\\n')\n",
    "    #print(counter, i, j, masked[i,j])\n",
    "    counter +=1\n",
    "\n",
    "file2.close()"
   ]
  },
  {
   "cell_type": "code",
   "execution_count": null,
   "metadata": {
    "collapsed": true
   },
   "outputs": [],
   "source": []
  },
  {
   "cell_type": "code",
   "execution_count": 104,
   "metadata": {
    "collapsed": false
   },
   "outputs": [
    {
     "name": "stdout",
     "output_type": "stream",
     "text": [
      "/Volumes/My Passport for Mac/LAURA_Sims/kinemetry_input\n"
     ]
    },
    {
     "name": "stderr",
     "output_type": "stream",
     "text": [
      "/Users/beckynevin/anaconda/lib/python3.6/site-packages/ipykernel/__main__.py:32: VisibleDeprecationWarning: using a non-integer number instead of an integer will result in an error in the future\n",
      "/Users/beckynevin/anaconda/lib/python3.6/site-packages/ipykernel/__main__.py:33: VisibleDeprecationWarning: using a non-integer number instead of an integer will result in an error in the future\n"
     ]
    },
    {
     "data": {
      "image/png": "[encoded data removed]",
      "text/plain": [
       "<matplotlib.figure.Figure at 0x1197d6a20>"
      ]
     },
     "metadata": {},
     "output_type": "display_data"
    },
    {
     "data": {
      "image/png": "[encoded data removed]",
      "text/plain": [
       "<matplotlib.figure.Figure at 0x11739ef28>"
      ]
     },
     "metadata": {},
     "output_type": "display_data"
    },
    {
     "data": {
      "image/png": "[encoded data removed]",
      "text/plain": [
       "<matplotlib.figure.Figure at 0x1181ecf28>"
      ]
     },
     "metadata": {},
     "output_type": "display_data"
    },
    {
     "data": {
      "image/png": "[encoded data removed]",
      "text/plain": [
       "<matplotlib.figure.Figure at 0x11845d240>"
      ]
     },
     "metadata": {},
     "output_type": "display_data"
    },
    {
     "data": {
      "image/png": "[encoded data removed]",
      "text/plain": [
       "<matplotlib.figure.Figure at 0x1176aa6d8>"
      ]
     },
     "metadata": {},
     "output_type": "display_data"
    },
    {
     "data": {
      "image/png": "[encoded data removed]",
      "text/plain": [
       "<matplotlib.figure.Figure at 0x118b026d8>"
      ]
     },
     "metadata": {},
     "output_type": "display_data"
    }
   ],
   "source": [
    "'''\n",
    "You now need to plot the velocity map to compare it to the \n",
    "actual map.\n",
    "'''\n",
    "os.chdir(os.path.expanduser('/Volumes/My Passport For Mac/LAURA_SIMS/kinemetry_input/'))\n",
    "\n",
    "print(os.getcwd())\n",
    "file_velcirc='myfile_v_1.txt'\n",
    "size=183\n",
    "stel_vel_model=np.zeros((size,size))\n",
    "stel_sig_model=np.zeros((size,size))\n",
    "\n",
    "\n",
    "with open(file_velcirc, 'r') as f:\n",
    "    data = f.readlines()\n",
    "    \n",
    "    \n",
    "    x_list_model=[]\n",
    "    y_list_model=[]\n",
    "    vel_circ_model=[]\n",
    "    vel_kin_model=[]\n",
    "    for line in data:\n",
    "        words = line.split()\n",
    "        #print(words)\n",
    "        if words[6]=='*************************':\n",
    "            continue\n",
    "        else:\n",
    "            x_list_model.append(float(words[0]))\n",
    "            y_list_model.append(float(words[1]))\n",
    "            vel_circ_model.append(float(words[6]))\n",
    "            vel_kin_model.append(float(words[7]))\n",
    "            stel_vel_model[float(words[0])-size/2,float(words[1])-size/2] = float(words[6])\n",
    "            stel_sig_model[float(words[0])-size/2,float(words[1])-size/2] = float(words[7])\n",
    "  \n",
    "\n",
    "\n",
    "stel_vel_model=((ma.masked_where(stel_vel_model==0, stel_vel_model)))\n",
    "plt.imshow(stel_vel_model,vmin=-100, vmax=100, cmap='gist_rainbow_r')\n",
    "plt.xlim([size/2-(dia-0.5),size/2+(dia-0.5)])\n",
    "plt.ylim([size/2-(dia-0.5),size/2+(dia-0.5)])\n",
    "plt.colorbar()\n",
    "\n",
    "plt.show()\n",
    "\n",
    "plt.imshow(np.rot90(rotated), vmin=-100, vmax=100, cmap='gist_rainbow_r')\n",
    "plt.colorbar()\n",
    "plt.xlim([size/2-(dia-0.5),size/2+(dia-0.5)])\n",
    "plt.ylim([size/2-(dia-0.5),size/2+(dia-0.5)])\n",
    "plt.show()\n",
    "\n",
    "plt.imshow(abs(np.flipud(rotated) - stel_vel_model),vmin=0, vmax=50, cmap='gist_rainbow_r')\n",
    "\n",
    "plt.xlim([size/2-(dia-0.5),size/2+(dia-0.5)])\n",
    "plt.ylim([size/2-(dia-0.5),size/2+(dia-0.5)])\n",
    "plt.colorbar()\n",
    "plt.annotate(r'Resids = '+str(round(np.mean(abs(rotated - stel_vel_model)),1)), xy=(0.6,0.95), xycoords='axes fraction')\n",
    "plt.show()\n",
    "\n",
    "\n",
    "\n",
    "\n",
    "'''\n",
    "~~~~~~~Sigs~~~~~~~\n",
    "'''\n",
    "stel_sig_model=((ma.masked_where(stel_sig_model==0, stel_sig_model)))\n",
    "plt.imshow(stel_sig_model, cmap='gist_rainbow_r')\n",
    "plt.xlim([size/2-(dia-0.5),size/2+(dia-0.5)])\n",
    "plt.ylim([size/2-(dia-0.5),size/2+(dia-0.5)])\n",
    "plt.colorbar()\n",
    "\n",
    "plt.show()\n",
    "\n",
    "plt.imshow(np.flipud(rotated_sig), cmap='gist_rainbow_r')\n",
    "plt.colorbar()\n",
    "plt.xlim([size/2-(dia-0.5),size/2+(dia-0.5)])\n",
    "plt.ylim([size/2-(dia-0.5),size/2+(dia-0.5)])\n",
    "plt.show()\n",
    "\n",
    "plt.imshow(abs(np.flipud(rotated_sig) - stel_sig_model), cmap='gist_rainbow_r')\n",
    "\n",
    "plt.xlim([size/2-(dia-0.5),size/2+(dia-0.5)])\n",
    "plt.ylim([size/2-(dia-0.5),size/2+(dia-0.5)])\n",
    "plt.colorbar()\n",
    "plt.annotate(r'Resids = '+str(round(np.mean(abs(rotated_sig - stel_sig_model)),1)), xy=(0.6,0.95), xycoords='axes fraction')\n",
    "plt.show()"
   ]
  },
  {
   "cell_type": "code",
   "execution_count": null,
   "metadata": {
    "collapsed": true
   },
   "outputs": [],
   "source": []
  }
 ],
 "metadata": {
  "kernelspec": {
   "display_name": "Python 3",
   "language": "python",
   "name": "python3"
  },
  "language_info": {
   "codemirror_mode": {
    "name": "ipython",
    "version": 3
   },
   "file_extension": ".py",
   "mimetype": "text/x-python",
   "name": "python",
   "nbconvert_exporter": "python",
   "pygments_lexer": "ipython3",
   "version": "3.6.0"
  }
 },
 "nbformat": 4,
 "nbformat_minor": 2
}
