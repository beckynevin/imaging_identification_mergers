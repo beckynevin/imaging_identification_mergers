{
 "cells": [
  {
   "cell_type": "code",
   "execution_count": 69,
   "metadata": {
    "collapsed": false
   },
   "outputs": [
    {
     "name": "stdout",
     "output_type": "stream",
     "text": [
      "m1_fg0.3_BT0.2_allrx10_isolated_sunruns/broadband_005.fits\n"
     ]
    },
    {
     "name": "stderr",
     "output_type": "stream",
     "text": [
      "/Users/beckynevin/anaconda/lib/python3.6/site-packages/ipykernel/__main__.py:316: RuntimeWarning: divide by zero encountered in log10\n"
     ]
    },
    {
     "name": "stdout",
     "output_type": "stream",
     "text": [
      "m1_fg0.3_BT0.2_allrx10_isolated_sunruns/broadband_030.fits\n"
     ]
    },
    {
     "name": "stderr",
     "output_type": "stream",
     "text": [
      "/Users/beckynevin/anaconda/lib/python3.6/site-packages/matplotlib/pyplot.py:537: RuntimeWarning: More than 20 figures have been opened. Figures created through the pyplot interface (`matplotlib.pyplot.figure`) are retained until explicitly closed and may consume too much memory. (To control this warning, see the rcParam `figure.max_open_warning`).\n",
      "  max_open_warning, RuntimeWarning)\n"
     ]
    },
    {
     "name": "stdout",
     "output_type": "stream",
     "text": [
      "m1_fg0.3_BT0.2_allrx10_isolated_sunruns/broadband_060.fits\n",
      "m1_fg0.3_BT0.2_allrx10_isolated_sunruns/broadband_090.fits\n",
      "m1_fg0.3_BT0.2_allrx10_isolated_sunruns/broadband_100.fits\n",
      "m1_fg0.3_BT0.2_allrx10_isolated_sunruns/broadband_120.fits\n",
      "m1_fg0.3_BT0.2_allrx10_isolated_sunruns/broadband_150.fits\n",
      "m1_fg0.3_BT0.2_allrx10_isolated_sunruns/broadband_180.fits\n",
      "m1_fg0.3_BT0.2_allrx10_isolated_sunruns/broadband_200.fits\n",
      "q0.1_fg0.3_BT0.2_allrx10_sunruns/hires_kin_early_cen1/broadband_005.fits\n",
      "q0.1_fg0.3_BT0.2_allrx10_sunruns/hires_kin_early_cen1/broadband_040.fits\n",
      "q0.1_fg0.3_BT0.2_allrx10_sunruns/hires_kin_early_cen1/broadband_060.fits\n",
      "q0.1_fg0.3_BT0.2_allrx10_sunruns/hires_kin_early_cen1/broadband_100.fits\n",
      "q0.1_fg0.3_BT0.2_allrx10_sunruns/hires_kin_early_cen1/broadband_200.fits\n",
      "q0.1_fg0.3_BT0.2_allrx10_sunruns/hires_kin_early_cen1/broadband_300.fits\n",
      "q0.1_fg0.3_BT0.2_allrx10_sunruns/hires_kin_early_cen1/broadband_400.fits\n",
      "q0.1_fg0.3_BT0.2_allrx10_sunruns/hires_kin_early_cen1/broadband_410.fits\n",
      "q0.1_fg0.3_BT0.2_allrx10_sunruns/hires_kin_early_cen1/broadband_420.fits\n",
      "q0.1_fg0.3_BT0.2_allrx10_sunruns/hires_kin_late/broadband_600.fits\n",
      "Outside of the box\n",
      "q0.1_fg0.3_BT0.2_allrx10_sunruns/hires_kin_late/broadband_700.fits\n"
     ]
    },
    {
     "name": "stderr",
     "output_type": "stream",
     "text": [
      "/Users/beckynevin/anaconda/lib/python3.6/site-packages/ipykernel/__main__.py:8: RuntimeWarning: divide by zero encountered in double_scalars\n",
      "/Users/beckynevin/anaconda/lib/python3.6/site-packages/ipykernel/__main__.py:8: RuntimeWarning: invalid value encountered in double_scalars\n",
      "/Users/beckynevin/anaconda/lib/python3.6/site-packages/ipykernel/__main__.py:9: RuntimeWarning: invalid value encountered in double_scalars\n",
      "/Users/beckynevin/anaconda/lib/python3.6/site-packages/ipykernel/__main__.py:10: RuntimeWarning: invalid value encountered in double_scalars\n",
      "/Users/beckynevin/anaconda/lib/python3.6/site-packages/ipykernel/__main__.py:10: RuntimeWarning: divide by zero encountered in double_scalars\n",
      "/Users/beckynevin/anaconda/lib/python3.6/site-packages/ipykernel/__main__.py:12: RuntimeWarning: divide by zero encountered in double_scalars\n",
      "/Users/beckynevin/anaconda/lib/python3.6/site-packages/ipykernel/__main__.py:12: RuntimeWarning: invalid value encountered in double_scalars\n",
      "/Users/beckynevin/anaconda/lib/python3.6/site-packages/ipykernel/__main__.py:13: RuntimeWarning: invalid value encountered in double_scalars\n",
      "/Users/beckynevin/anaconda/lib/python3.6/site-packages/ipykernel/__main__.py:14: RuntimeWarning: invalid value encountered in double_scalars\n",
      "/Users/beckynevin/anaconda/lib/python3.6/site-packages/ipykernel/__main__.py:14: RuntimeWarning: divide by zero encountered in double_scalars\n"
     ]
    },
    {
     "name": "stdout",
     "output_type": "stream",
     "text": [
      "Outside of the box\n",
      "q0.1_fg0.3_BT0.2_allrx10_sunruns/hires_kin_late/broadband_800.fits\n",
      "q0.1_fg0.3_BT0.2_allrx10_sunruns/hires_kin_late/broadband_900.fits\n",
      "q0.1_fg0.3_BT0.2_allrx10_sunruns/hires_kin_late/broadband_1000.fits\n",
      "q0.1_fg0.3_BT0.2_allrx10_sunruns/hires_kin_late/broadband_1100.fits\n"
     ]
    }
   ],
   "source": [
    "##### q0.5_fg0.3_allrx10_sunruns/hires_kin_early_cen1\n",
    "##005,010,020,030,040,060,080,100,120,140,160\n",
    "#q0.5_fg0.3_allrx10_sunruns/hires_kin\n",
    "##170,180,185,190,195,205,210,220,225,230,240,250,260\n",
    "\n",
    "#m0.5_fg0.3_allrx10_isolated_sunruns\n",
    "##005,200\n",
    "#m1_fg0.3_allrx10_isolated_sunruns\n",
    "##005,100,200\n",
    "\n",
    "viewpt_list=[5]\n",
    "import pyfits\n",
    "import matplotlib.pyplot as plt\n",
    "import numpy as np\n",
    "from numpy import shape\n",
    "from scipy import ndimage\n",
    "import scipy.ndimage.filters as filters\n",
    "from scipy.ndimage.morphology import generate_binary_structure, binary_erosion\n",
    "from scipy.ndimage import iterate_structure\n",
    "from scipy.ndimage.filters import maximum_filter\n",
    "import matplotlib\n",
    "import scipy.optimize as opt\n",
    "from astropy.cosmology import WMAP9 as cosmo\n",
    "import os\n",
    "from astropy.convolution import convolve, convolve_fft\n",
    "import matplotlib.pyplot as plt\n",
    "from astropy.convolution import Gaussian2DKernel\n",
    "from astropy.convolution import Gaussian1DKernel\n",
    "from astropy.convolution import convolve\n",
    "\n",
    "\n",
    "\n",
    "img_list=['m1_fg0.3_BT0.2_allrx10_isolated_sunruns/broadband_030.fits',\n",
    "          'm1_fg0.3_BT0.2_allrx10_isolated_sunruns/broadband_060.fits',\n",
    "          'm1_fg0.3_BT0.2_allrx10_isolated_sunruns/broadband_100.fits',\n",
    "          'm1_fg0.3_BT0.2_allrx10_isolated_sunruns/broadband_200.fits',\n",
    "          'q0.2_fg0.3_BT0.2_allrx10_sunruns/hires_kin_early_cen1/broadband_005.fits',\n",
    "          'q0.2_fg0.3_BT0.2_allrx10_sunruns/hires_kin_early_cen1/broadband_060.fits',\n",
    "          'q0.2_fg0.3_BT0.2_allrx10_sunruns/hires_kin_early_cen1/broadband_150.fits',\n",
    "          'q0.2_fg0.3_BT0.2_allrx10_sunruns/hires_kin_early_cen1/broadband_210.fits',\n",
    "          'q0.2_fg0.3_BT0.2_allrx10_sunruns/hires_kin_early_cen1/broadband_240.fits',\n",
    "          'q0.2_fg0.3_BT0.2_allrx10_sunruns/hires_kin_early_cen1/broadband_270.fits',\n",
    "          'q0.2_fg0.3_BT0.2_allrx10_sunruns/hires_kin_early_cen1/broadband_300.fits',\n",
    "          'q0.2_fg0.3_BT0.2_allrx10_sunruns/hires_kin_late/broadband_320.fits',\n",
    "          'q0.2_fg0.3_BT0.2_allrx10_sunruns/hires_kin_late/broadband_340.fits',\n",
    "          'q0.2_fg0.3_BT0.2_allrx10_sunruns/hires_kin_late/broadband_360.fits',\n",
    "          'q0.2_fg0.3_BT0.2_allrx10_sunruns/hires_kin_late/broadband_400.fits',\n",
    "         'q0.2_fg0.3_BT0.2_allrx10_sunruns/hires_kin_late/broadband_420.fits']\n",
    "myr=[30,60,100,200,5,60,150,210,240,270,300,320,340,360,400,420]\n",
    "merger=[0,0,0,0,0,1,1,1,1,1,1,1,1,1,1,1]\n",
    "merger_sim=['fg3_m_15_iso_1','fg3_m_15_iso_1','fg3_m_15_iso_1','fg3_m_15_iso_1',\n",
    "        'fg3_m_15','fg3_m_15','fg3_m_15','fg3_m_15',\n",
    "            'fg3_m_15','fg3_m_15','fg3_m_15','fg3_m_15',\n",
    "            'fg3_m_15','fg3_m_15','fg3_m_15','fg3_m_15']\n",
    "\n",
    "\n",
    "img_list=['q0.5_fg0.3_allrx10_sunruns/hires_kin/broadband_180.fits',\n",
    "          'q0.5_fg0.3_allrx10_sunruns/hires_kin/broadband_185.fits','q0.5_fg0.3_allrx10_sunruns/hires_kin/broadband_190.fits',\n",
    "         'q0.5_fg0.3_allrx10_sunruns/hires_kin/broadband_195.fits','q0.5_fg0.3_allrx10_sunruns/hires_kin/broadband_205.fits',\n",
    "         'q0.5_fg0.3_allrx10_sunruns/hires_kin/broadband_210.fits','q0.5_fg0.3_allrx10_sunruns/hires_kin/broadband_220.fits',\n",
    "         'q0.5_fg0.3_allrx10_sunruns/hires_kin/broadband_225.fits','q0.5_fg0.3_allrx10_sunruns/hires_kin/broadband_230.fits',\n",
    "         'q0.5_fg0.3_allrx10_sunruns/hires_kin/broadband_240.fits','q0.5_fg0.3_allrx10_sunruns/hires_kin/broadband_250.fits',\n",
    "         'q0.5_fg0.3_allrx10_sunruns/hires_kin/broadband_260.fits',\n",
    "         'q0.5_fg0.3_allrx10_sunruns/hires_kin_early_cen1/broadband_005.fits',\n",
    "         'q0.5_fg0.3_allrx10_sunruns/hires_kin_early_cen1/broadband_010.fits',\n",
    "         'q0.5_fg0.3_allrx10_sunruns/hires_kin_early_cen1/broadband_020.fits',\n",
    "         'q0.5_fg0.3_allrx10_sunruns/hires_kin_early_cen1/broadband_030.fits',\n",
    "         'q0.5_fg0.3_allrx10_sunruns/hires_kin_early_cen1/broadband_040.fits',\n",
    "         'q0.5_fg0.3_allrx10_sunruns/hires_kin_early_cen1/broadband_060.fits',\n",
    "         'q0.5_fg0.3_allrx10_sunruns/hires_kin_early_cen1/broadband_080.fits',\n",
    "         'q0.5_fg0.3_allrx10_sunruns/hires_kin_early_cen1/broadband_100.fits',\n",
    "         'q0.5_fg0.3_allrx10_sunruns/hires_kin_early_cen1/broadband_120.fits',\n",
    "         'q0.5_fg0.3_allrx10_sunruns/hires_kin_early_cen1/broadband_140.fits',\n",
    "         'q0.5_fg0.3_allrx10_sunruns/hires_kin_early_cen1/broadband_160.fits',\n",
    "         'isolated_galaxies/m0.5_fg0.3/broadband_005.fits','isolated_galaxies/m0.5_fg0.3/broadband_010.fits','isolated_galaxies/m0.5_fg0.3/broadband_030.fits','isolated_galaxies/m0.5_fg0.3/broadband_050.fits',\n",
    "         'isolated_galaxies/m1_fg0.3/broadband_005.fits','isolated_galaxies/m1_fg0.3/broadband_010.fits','isolated_galaxies/m1_fg0.3/broadband_020.fits','isolated_galaxies/m1_fg0.3/broadband_030.fits','isolated_galaxies/m1_fg0.3/broadband_040.fits','isolated_galaxies/m1_fg0.3/broadband_050.fits','isolated_galaxies/m1_fg0.3/broadband_060.fits','isolated_galaxies/m1_fg0.3/broadband_100.fits']\n",
    "myr=[180,185, 190, 195, 205, 210, 220, 225, 230, 240, 250, 260,\n",
    "     5,10,20,30,40,60,80,100,120,140,160,\n",
    "    5,10,30,50,\n",
    "    5,10,20,30,40,50,60,100]\n",
    "merger=[1,1,1,1,1,1,1,1,1,1,1,1,\n",
    "       1,1,1,1,1,1,1,1,1,1,1,\n",
    "       0,0,0,0,\n",
    "       0,0,0,0,0,0,0,0]\n",
    "merger_sim=['fg3_m12','fg3_m12','fg3_m12',\n",
    "           'fg3_m12','fg3_m12','fg3_m12','fg3_m12',\n",
    "           'fg3_m12','fg3_m12','fg3_m12','fg3_m12',\n",
    "            'fg3_m12','fg3_m12','fg3_m12','fg3_m12',\n",
    "           'fg3_m12','fg3_m12','fg3_m12','fg3_m12',\n",
    "           'fg3_m12','fg3_m12','fg3_m12','fg3_m12',\n",
    "           'iso_m0.5_fg0.3','iso_m0.5_fg0.3','iso_m0.5_fg0.3','iso_m0.5_fg0.3',\n",
    "           'iso_m1_fg0.3','iso_m1_fg0.3','iso_m1_fg0.3','iso_m1_fg0.3','iso_m1_fg0.3','iso_m1_fg0.3','iso_m1_fg0.3','iso_m1_fg0.3']\n",
    "\n",
    "\n",
    "img_list=['m1_fg0.3_BT0.2_allrx10_isolated_sunruns/broadband_005.fits',\n",
    "    'm1_fg0.3_BT0.2_allrx10_isolated_sunruns/broadband_030.fits',\n",
    "          'm1_fg0.3_BT0.2_allrx10_isolated_sunruns/broadband_060.fits',\n",
    "          'm1_fg0.3_BT0.2_allrx10_isolated_sunruns/broadband_090.fits',\n",
    "          'm1_fg0.3_BT0.2_allrx10_isolated_sunruns/broadband_100.fits',\n",
    "          'm1_fg0.3_BT0.2_allrx10_isolated_sunruns/broadband_120.fits',\n",
    "          'm1_fg0.3_BT0.2_allrx10_isolated_sunruns/broadband_150.fits',\n",
    "          'm1_fg0.3_BT0.2_allrx10_isolated_sunruns/broadband_180.fits',\n",
    "          'm1_fg0.3_BT0.2_allrx10_isolated_sunruns/broadband_200.fits',\n",
    "         'q0.1_fg0.3_BT0.2_allrx10_sunruns/hires_kin_early_cen1/broadband_005.fits',\n",
    "         'q0.1_fg0.3_BT0.2_allrx10_sunruns/hires_kin_early_cen1/broadband_040.fits',\n",
    "         'q0.1_fg0.3_BT0.2_allrx10_sunruns/hires_kin_early_cen1/broadband_060.fits',\n",
    "         'q0.1_fg0.3_BT0.2_allrx10_sunruns/hires_kin_early_cen1/broadband_100.fits',\n",
    "         'q0.1_fg0.3_BT0.2_allrx10_sunruns/hires_kin_early_cen1/broadband_200.fits',\n",
    "         'q0.1_fg0.3_BT0.2_allrx10_sunruns/hires_kin_early_cen1/broadband_300.fits',\n",
    "         'q0.1_fg0.3_BT0.2_allrx10_sunruns/hires_kin_early_cen1/broadband_400.fits',\n",
    "          'q0.1_fg0.3_BT0.2_allrx10_sunruns/hires_kin_early_cen1/broadband_410.fits',\n",
    "          'q0.1_fg0.3_BT0.2_allrx10_sunruns/hires_kin_early_cen1/broadband_420.fits',\n",
    "         'q0.1_fg0.3_BT0.2_allrx10_sunruns/hires_kin_late/broadband_600.fits',\n",
    "         'q0.1_fg0.3_BT0.2_allrx10_sunruns/hires_kin_late/broadband_700.fits',\n",
    "         'q0.1_fg0.3_BT0.2_allrx10_sunruns/hires_kin_late/broadband_800.fits',\n",
    "         'q0.1_fg0.3_BT0.2_allrx10_sunruns/hires_kin_late/broadband_900.fits',\n",
    "         'q0.1_fg0.3_BT0.2_allrx10_sunruns/hires_kin_late/broadband_1000.fits',\n",
    "         'q0.1_fg0.3_BT0.2_allrx10_sunruns/hires_kin_late/broadband_1100.fits',]\n",
    "myr=[5,30,60,90,100,120,150,180,200,\n",
    "     5,40,60,100,200,300,400,410,420,\n",
    "     600,700,800,900,1000,1100]\n",
    "merger_sim=['fg3_m_10_iso_1','fg3_m_10_iso_1','fg3_m_10_iso_1','fg3_m_10_iso_1',\n",
    "       'fg3_m_10_iso_1','fg3_m_10_iso_1','fg3_m_10_iso_1','fg3_m_10_iso_1','fg3_m_10_iso_1',\n",
    "       'fg3_m_10','fg3_m_10','fg3_m_10','fg3_m_10','fg3_m_10',\n",
    "        'fg3_m_10','fg3_m_10','fg3_m_10','fg3_m_10',\n",
    "        'fg3_m_10','fg3_m_10','fg3_m_10','fg3_m_10','fg3_m_10','fg3_m_10']\n",
    "merger=[0,0,0,0,0,0,0,0,0,\n",
    "       1,1,1,1,1,1,1,1,1,\n",
    "       1,1,1,1,1,1]\n",
    "\n",
    "X=[]\n",
    "y=[]\n",
    "for i in range(len(img_list)):\n",
    "    print(img_list[i])\n",
    "    for j in range(len(viewpt_list)):\n",
    "        plott='no'\n",
    "        viewpt=viewpt_list[j]\n",
    "        im=pyfits.open(img_list[i])\n",
    "        \n",
    "        \n",
    "        a=produce_camera(myr[i],img_list[i],viewpt)\n",
    "        \n",
    "        band=65\n",
    "        try:\n",
    "            fill_img=a[1][band]\n",
    "        except IndexError:\n",
    "            band=2\n",
    "        b=determine_coords(a[1][band], plott)#was c, taking the second dimension\n",
    "        if b[0]==0:\n",
    "            continue\n",
    "        \n",
    "        \n",
    "        low_pass=b[4]\n",
    "        num_sol=b[5]\n",
    "\n",
    "        '''Now, fit a couple 2D gaussians if there are 2 brightest pixels, otherwise\n",
    "        fit only one 2D gaussian. The output of fit_2_gaussians will be the positions of these\n",
    "        maxima'''\n",
    "\n",
    "        if num_sol==1:\n",
    "            #this is if there's only really one solution because the bulges are too close together\n",
    "            c=fit_2_gaussian(b[1],shape(a[1][band])[0]-b[0],b[1],shape(a[1][band])[0]-b[0],low_pass, plott)\n",
    "            if c[8]=='no':\n",
    "                 c=fit_2_gaussian(b[2],shape(a[1][band])[0]-b[0],b[3],shape(a[1][band])[0]-b[1],low_pass, plott)#was d[3],300-d[2],d[1],300-d[0]\n",
    "\n",
    "        else:\n",
    "            c=fit_2_gaussian(b[2],shape(a[1][band])[0]-b[0],b[3],shape(a[1][band])[0]-b[1],low_pass, plott)#was d[3],300-d[2],d[1],300-d[0]\n",
    "\n",
    "        \n",
    "        if c[8] == 'no':\n",
    "            print('Did not fit the 2D Gaussian well')\n",
    "        if c[4] > c[5]:\n",
    "            '''this means point 1 is brighter'''\n",
    "            in_x = c[1]\n",
    "            in_y = c[0]\n",
    "            in_2_x = c[3]\n",
    "            in_2_y = c[2]\n",
    "            \n",
    "\n",
    "        if c[5] > c[4]:\n",
    "            '''point 2 is the brighter source'''\n",
    "            in_x = c[3]\n",
    "            in_y = c[2]\n",
    "            in_2_x = c[1]\n",
    "            in_2_y = c[0]\n",
    "\n",
    "            \n",
    "        \n",
    "        \n",
    "        '''Now place a aperture over each center and figure out which is brighter overall'''\n",
    "        c_final=determine_brighter(a[1][band],  in_y,shape(a[1][band])[0]-in_x,  in_2_y, shape(a[1][band])[0]-in_2_x, a[0])\n",
    "        \n",
    "        if c_final[2]=='yes':\n",
    "            continue\n",
    "\n",
    "        if c_final[0] > c_final[1]:\n",
    "            d=clip_image(a[1][band], a[0], 0.03, int(shape(a[1][band])[0]-in_x), int(in_y))\n",
    "            #this means the first aperture (center) is indeed brighter\n",
    "        else:\n",
    "            d=clip_image(a[1][band], a[0], 0.03, int(shape(a[1][band])[0]-in_2_x), int(in_2_y))\n",
    "\n",
    "        if d[3]=='no':\n",
    "            #this means the cutout dis outside the image --> bad\n",
    "            continue\n",
    "        \n",
    "        \n",
    "        e=nanomags(0.03, a[0], d[0],viewpt, myr[i])#was a[1]\n",
    "        \n",
    "        texp=1\n",
    "        prep=convolve_image(myr[i],e[0],e[1],e[2],0.03,a[0],viewpt, e[3], e[4], e[5], e[6], texp)\n",
    "        \n",
    "        X.append(prep[3]/np.max(prep[3]))\n",
    "        y.append(merger[i])\n",
    "        \n",
    "        plt.clf()\n",
    "        fig=plt.figure()\n",
    "        ax1=fig.add_subplot(111)\n",
    "        \n",
    "        im1=ax1.imshow(abs(prep[0]),norm=matplotlib.colors.LogNorm(vmin=10**(-1), vmax=10**1),cmap='afmhot')\n",
    "        #print(mask_log_image)\n",
    "        #vmin=d[0].min(),vmax=max_img,\n",
    "        \n",
    "        ax1.axis('off')\n",
    "        \n",
    "        #ax1.annotate(r't = '+str(myr[i]/100)+' Gyr', xy=(0.5,0.9), color='white', xycoords='axes fraction', size=15)\n",
    "        plt.savefig('../MaNGA_Papers/Paper_I/SDSS_image_plot_contrast_'+str(myr[i])+'_'+str(viewpt)+'_'+str(merger_sim[i])+'.png',bbox_inches='tight')\n",
    "        \n",
    "        \n",
    "        #plt.imshow(prep[3]/np.max(prep[3]))\n",
    "        #plt.colorbar()\n",
    "        #plt.show()\n",
    "        \n",
    "        "
   ]
  },
  {
   "cell_type": "code",
   "execution_count": 42,
   "metadata": {
    "collapsed": false
   },
   "outputs": [
    {
     "name": "stdout",
     "output_type": "stream",
     "text": [
      "[]\n"
     ]
    }
   ],
   "source": []
  },
  {
   "cell_type": "code",
   "execution_count": 70,
   "metadata": {
    "collapsed": false
   },
   "outputs": [
    {
     "name": "stdout",
     "output_type": "stream",
     "text": [
      "Compiled\n"
     ]
    }
   ],
   "source": [
    "def twoD_two_Gaussian(xdata_tuple, amplitude, xo, yo, sigma_x, sigma_y, theta, offset,\n",
    "                     amplitude_2, xo_2, yo_2, sigma_x_2, sigma_y_2, theta_2):\n",
    "    (x, y) = xdata_tuple \n",
    "    xo = float(xo)\n",
    "    yo = float(yo)   \n",
    "    xo_2 = float(xo_2)\n",
    "    yo_2 = float(yo_2)  \n",
    "    a = (np.cos(theta)**2)/(2*sigma_x**2) + (np.sin(theta)**2)/(2*sigma_y**2)\n",
    "    b = -(np.sin(2*theta))/(4*sigma_x**2) + (np.sin(2*theta))/(4*sigma_y**2)\n",
    "    c = (np.sin(theta)**2)/(2*sigma_x**2) + (np.cos(theta)**2)/(2*sigma_y**2)\n",
    "    \n",
    "    a_2 = (np.cos(theta_2)**2)/(2*sigma_x_2**2) + (np.sin(theta_2)**2)/(2*sigma_y_2**2)\n",
    "    b_2 = -(np.sin(2*theta_2))/(4*sigma_x_2**2) + (np.sin(2*theta_2))/(4*sigma_y_2**2)\n",
    "    c_2 = (np.sin(theta_2)**2)/(2*sigma_x_2**2) + (np.cos(theta_2)**2)/(2*sigma_y_2**2)\n",
    "    \n",
    "    g = offset + amplitude*np.exp( - (a*((x-xo)**2) + 2*b*(x-xo)*(y-yo) \n",
    "                            + c*((y-yo)**2)))+ amplitude_2*np.exp( - (a_2*((x-xo_2)**2) + 2*b_2*(x-xo_2)*(y-yo_2) \n",
    "                            + c_2*((y-yo_2)**2)))\n",
    "    \n",
    "    return g.ravel()\n",
    "\n",
    "def detect_peaks(image):\n",
    "    \"\"\"\n",
    "    Takes an image and detect the peaks using the local maximum filter.\n",
    "    Returns a boolean mask of the peaks (i.e. 1 when\n",
    "    the pixel's value is the neighborhood maximum, 0 otherwise)\n",
    "    \"\"\"\n",
    "\n",
    "    # define an 8-connected neighborhood\n",
    "    struct = generate_binary_structure(2,1)\n",
    "    \n",
    "    neighborhood = iterate_structure(struct, 10).astype(bool)\n",
    "    \n",
    "    #apply the local maximum filter; all pixel of maximal value \n",
    "    #in their neighborhood are set to 1\n",
    "    local_max = maximum_filter(image, footprint=neighborhood)==image\n",
    "    #local_max is a mask that contains the peaks we are \n",
    "    #looking for, but also the background.\n",
    "    #In order to isolate the peaks we must remove the background from the mask.\n",
    "    \n",
    "    \n",
    "    #we create the mask of the background\n",
    "    background = (image==0)\n",
    "\n",
    "    #a little technicality: we must erode the background in order to \n",
    "    #successfully subtract it form local_max, otherwise a line will \n",
    "    #appear along the background border (artifact of the local maximum filter)\n",
    "    eroded_background = binary_erosion(background, structure=neighborhood, border_value=1)\n",
    "\n",
    "    #we obtain the final mask, containing only peaks, \n",
    "    #by removing the background from the local_max mask (xor operation)\n",
    "    detected_peaks = local_max ^ eroded_background\n",
    "\n",
    "    return detected_peaks\n",
    "\n",
    "\n",
    "    \n",
    "    \n",
    "\n",
    "def produce_camera(myr,img, viewpoint):\n",
    "    im=pyfits.open(img)\n",
    "\n",
    "    plt.clf()\n",
    "    \n",
    "\n",
    "    camera_data=im['CAMERA'+str(viewpoint)+'-BROADBAND'].data\n",
    "    pixelscale =  im['CAMERA'+str(viewpoint)+'-BROADBAND'].header['CD1_1']\n",
    "\n",
    "    \n",
    "\n",
    "    xs = np.linspace(0,shape(camera_data[0])[0]-1,shape(camera_data[0])[0])\n",
    "    xs_kpc = [pixelscale*x for x in xs]\n",
    "\n",
    "    \n",
    "    \n",
    "    return pixelscale, camera_data\n",
    "def determine_coords(img, plot):\n",
    "    \n",
    "    \n",
    "    kernel = np.ones((10,10))\n",
    "\n",
    "    lp_3 = ndimage.convolve(img, kernel)#was result\n",
    "    if plot=='yes':\n",
    "        plt.imshow(img)\n",
    "        plt.title('before filtering')\n",
    "        plt.colorbar()\n",
    "        plt.show()\n",
    "    \n",
    "    '''Okay here is where you can filter out low stuff'''\n",
    "    \n",
    "    max_value=(lp_3.max())\n",
    "    low = np.where(lp_3 < 0.2*max_value)\n",
    "    \n",
    "   \n",
    "    lp_3[low] = 0\n",
    "    \n",
    " \n",
    "    \n",
    "    \n",
    "    kernel_high = -1*np.ones((3,3))\n",
    "    kernel_high[1,1]=8\n",
    "    \n",
    "    hp_lp = ndimage.convolve(lp_3, kernel_high)\n",
    "    \n",
    "    \n",
    "    '''sharpen'''\n",
    "\n",
    "    kernel_sharpen = np.zeros((3,3))\n",
    "    kernel_sharpen[0,1]=-1\n",
    "    kernel_sharpen[1,0]=-1\n",
    "    kernel_sharpen[1,1]=5\n",
    "    kernel_sharpen[1,2]=-1\n",
    "    kernel_sharpen[2,1]=-1\n",
    "    kernel_sharpen=kernel_sharpen\n",
    "    \n",
    "    hp_lp_sharp = ndimage.convolve(hp_lp, kernel_sharpen)\n",
    "    if plot=='yes':\n",
    "        pp.imshow(hp_lp_sharp)\n",
    "        pp.title('Sharpened')\n",
    "        pp.colorbar()\n",
    "        pp.show()\n",
    "    \n",
    "    data_max = filters.maximum_filter(hp_lp, 3)\n",
    "    #data_max = filters.maximum_filter(data, neighborhood_size)\n",
    "    maxima = (hp_lp == data_max)\n",
    "    data_min = filters.minimum_filter(lp_3, 10)\n",
    "    diff = ((data_max - data_min) > 100)\n",
    "    maxima[diff == 0] = 0\n",
    "    \n",
    "    \n",
    "    \n",
    "    \n",
    "    \n",
    "    indices = np.where(detect_peaks(lp_3) == 1)#was hp_lp_sharp\n",
    "    #number_of_sols=len(indices[0])\n",
    "    number_of_sols=len(indices[0])\n",
    "    \n",
    "    \n",
    "    try:\n",
    "        return indices[0][0],indices[0][-1],indices[1][0],indices[1][-1], lp_3, number_of_sols\n",
    "    except IndexError:\n",
    "        return 0,0,0,0,lp_3,number_of_sols\n",
    "def fit_2_gaussian(x_1,y_1,x_2,y_2, data, plot):\n",
    "# Create x and y indices\n",
    "    data=np.flipud(data)\n",
    "    x = np.linspace(0, 299, 300)\n",
    "    y = np.linspace(0, 299, 300)\n",
    "    x, y = np.meshgrid(x, y)\n",
    "    \n",
    "\n",
    "    # add some noise to the data and try to fit the data generated beforehand\n",
    "    initial_guess = (20,x_1,y_1,7,7,0,10,20,x_2,y_2,7,7,0)\n",
    "    data=data.ravel()\n",
    "    \n",
    "   \n",
    "    \n",
    "    #And plot the results:\n",
    "    \n",
    "    data_here = twoD_two_Gaussian((x,y), *initial_guess)\n",
    "    if plot=='yes':\n",
    "        fig, ax = plt.subplots(1, 1)\n",
    "        ax.hold(True)\n",
    "        ax.imshow(data.reshape(300, 300), cmap=plt.cm.jet, origin='bottom',\n",
    "            extent=(x.min(), x.max(), y.min(), y.max()))\n",
    "        ax.contour(x, y, data_here.reshape(300, 300), 8, colors='w')\n",
    "        plt.show()\n",
    "    try:\n",
    "        popt, pcov = opt.curve_fit(twoD_two_Gaussian, (x, y), data, p0=initial_guess)\n",
    "        fit='yes'\n",
    "    except RuntimeError:\n",
    "        popt=[0,0,0,0,0,0,0,0,0,0,0,0,0]\n",
    "        fit='no'\n",
    "    data_fitted = twoD_two_Gaussian((x, y), *popt)\n",
    "    \n",
    " \n",
    "    if plot=='yes':\n",
    "        fig, ax = plt.subplots(1, 1)\n",
    "        ax.hold(True)\n",
    "        ax.imshow(data.reshape(300, 300), cmap=plt.cm.jet, origin='bottom',\n",
    "            extent=(x.min(), x.max(), y.min(), y.max()))\n",
    "        ax.contour(x, y, data_fitted.reshape(300, 300), 8, colors='w')\n",
    "        plt.show()\n",
    "    \n",
    "    return popt[1], popt[2], popt[8], popt[9], popt[0], popt[7], np.sqrt(popt[3]**2+popt[4]**2), np.sqrt(popt[10]**2+popt[11]**2), fit \n",
    "def determine_brighter(img, x, y, x2, y2, pix):\n",
    "    kpc_arcmin=cosmo.kpc_proper_per_arcmin(0.03)#insert the redshift to get the kpc/arcmin scaling\n",
    "\n",
    "    \n",
    "    ap_size=(3*(kpc_arcmin.value/60))/pix ###arcsec * kpc/arcsec   / kpc/pix\n",
    "    from photutils import CircularAperture,aperture_photometry\n",
    "    '''step 1: define the circular aperture'''\n",
    "    positions = [(x, y), (x2, y2)]\n",
    "    apertures = CircularAperture(positions, ap_size)\n",
    "    phot_table = aperture_photometry(img, apertures)\n",
    "    total_light_1=phot_table['aperture_sum'][0]\n",
    "    total_light_2=phot_table['aperture_sum'][1]\n",
    "\n",
    "    \n",
    "    masks = apertures.to_mask(method='center')\n",
    "    mask = masks[0]\n",
    "\n",
    "    image = mask.to_image(shape=((shape(img)[0], shape(img)[0])))\n",
    "    skip='no'\n",
    "    try:\n",
    "        data_cutout = mask.apply(img)\n",
    "        \n",
    "    except TypeError:\n",
    "        skip='yes'\n",
    "\n",
    "    '''plt.imshow(data_cutout, norm=matplotlib.colors.LogNorm())\n",
    "    plt.show()\n",
    "\n",
    "\n",
    "    \n",
    "    \n",
    "    \n",
    "    plt.imshow(img, norm=matplotlib.colors.LogNorm())\n",
    "    plt.scatter(x,y, color='white')\n",
    "    plt.scatter(x2,y2, color='red')\n",
    "    plt.show()'''\n",
    "    return total_light_1, total_light_2, skip\n",
    "\n",
    "def clip_image(ins, pixelscale, redshift, xcen, ycen):\n",
    "    plt.clf()\n",
    "    '''I count 50\" to a side images'''\n",
    "    #print('pixelscale', pixelscale)\n",
    "    kpc_arcmin=cosmo.kpc_proper_per_arcmin(redshift)#insert the redshift  \n",
    "    #print(kpc_arcmin.value/60, 'kpc per arcsec')\n",
    "    '''Divide the pixelscale (kpc) by kpc/arcsec to get arcsec\n",
    "    size of pixels'''\n",
    "    size_a=pixelscale/(kpc_arcmin.value/60)\n",
    "    #print('size', size_a, 'arcsec pixels')\n",
    "    num_pix_half=int(25/size_a)\n",
    "    if xcen-num_pix_half < 0 or ycen-num_pix_half < 0 or xcen+num_pix_half > 300 or ycen+num_pix_half > 300:\n",
    "        print('Outside of the box')\n",
    "        clipped=0\n",
    "        tag='no'\n",
    "    \n",
    "    else:\n",
    "        clipped=(ins[xcen-num_pix_half:xcen+num_pix_half,ycen-num_pix_half:ycen+num_pix_half])\n",
    "        tag='yes'\n",
    "    \n",
    "    return clipped, size_a, num_pix_half, tag, xcen, ycen\n",
    "'''Now I have to convert the units of LAURAS sims into nanomaggies and AB mags (mags of DR7 and DR13)\n",
    "'''\n",
    "def nanomags(z, pixscale, camera_data, view, number):\n",
    "#first, go from specific intensity (because we have per steradian) to \n",
    "#janskies (W/Hz/m^2)\n",
    "    c = 299792.458*1000#to get into m/s\n",
    "\n",
    "#this 1.35e-6 comes from the arcsin(R_sky/Distance to object)\n",
    "#the answer needs to be in radians\n",
    "\n",
    "#J=10^-26 W/m^2/Hz, so units of flux density\n",
    "#reference site: http://www.cv.nrao.edu/course/astr534/Brightness.html\n",
    "#We need to go from a spectral brightness (I_nu) which is in m units\n",
    "#To a flux density (S_nu) which is in units of Janskies (W/m^2/Hz)\n",
    "\n",
    "#So you need to multiply the Fν by c / λ^2 to convert it into Fλ. \n",
    "#But we are not done yet! Recalling from above, the units of Fλ \n",
    "#are not an energy density. You need to get another factor of λ \n",
    "#in there to make the units work out to be energy density: \n",
    "#calculate λFλ to get units of ergs/s/cm^2.\n",
    "\n",
    "#1.35e-6 comes from: sin^-1(pixelscale=0.166666#kpc/pix/ comoving distance in kpc)\n",
    "    pixelscale=pixscale#0.166666#kpc/pix/\n",
    "    d_a = cosmo.angular_diameter_distance(z).value#, **fidcosmo)\n",
    "    d_co = cosmo.comoving_distance(z).value\n",
    "    d_lum = cosmo.luminosity_distance(z).value \n",
    "    #print(\"Angluar-diameter distance to z=0.03 is\", 1000*(d_a), 'kpc')\n",
    "    #print(\"Comoving distance to z=0.03 is\", 1000*((d_co)), 'kpc')\n",
    "    #print(\"Luminosity distance to z=0.03 is\", 1000*((d_lum)), 'kpc')\n",
    "\n",
    "\n",
    "\n",
    "    #here's a good review of all the different distances\n",
    "    #http://www.astro.ufl.edu/~guzman/ast7939/projects/project01.html\n",
    "\n",
    "    #masked=ma.masked_where(camera_data[2] <= 0, camera_data[2])\n",
    "    Janskies=np.array(10**(26)*camera_data*(pixelscale/(1000*d_lum))**2*np.pi*((6185.2*10**(-10))**2/c), dtype='>f4')\n",
    "    #A Jansky is 10−26 watts per square metre per hertz.\n",
    "\n",
    "\n",
    "\n",
    "    nanomaggy=Janskies/(3.631*10**(-6))\n",
    "\n",
    "    \n",
    "\n",
    "    #first, convert to counts\n",
    "    #dn=img/cimg+simg\n",
    "    cimg=0.005005225 #nanomaggies/count\n",
    "    gain=4.735\n",
    "    darkvar=1.1966\n",
    "    simg=121.19590411\n",
    "    counts=(nanomaggy)/cimg+simg\n",
    "    sigma_counts=np.sqrt(counts/gain+darkvar)\n",
    "    sigma_nanomags=sigma_counts*cimg\n",
    "    \n",
    "    nanomag_bg = counts*cimg\n",
    "\n",
    "\n",
    "\n",
    "    '''The sky resids are given by:''' \n",
    "    sky_resids_mine=cimg*np.random.normal(0.331132,5.63218,shape(nanomaggy))\n",
    "    sky_resids_mine_counts=np.random.normal(0.331132,5.63218,shape(nanomaggy))\n",
    "    d_image=(nanomaggy)+sky_resids_mine\n",
    "    degraded_image=d_image\n",
    "    degraded_image_counts=d_image/cimg\n",
    "    #degraded_image=ma.masked_where(d_image <= 0, d_image)#numpy.ma.masked_less(x, value, \n",
    "\n",
    "    #in nanomags\n",
    "    #poisson_plus = np.sqrt((np.flipud(nanomaggy)+ 0.004701377)/1367.29546)+sky_resids_mine\n",
    "    #poisson_plus_nanomags = poisson_plus*1367.29546\n",
    "    \n",
    "  \n",
    "    mag=22.5-2.5*np.log10(nanomaggy)\n",
    "\n",
    "    \n",
    "    #return n, sky resids added (nanomags), poisson noise, resids in nanomags, sky resids added (counts), poisson noise, resids in counts\n",
    "    return nanomaggy, degraded_image, sigma_nanomags, sky_resids_mine, degraded_image_counts, sigma_counts, sky_resids_mine_counts\n",
    "#was degraded image, sigma_nanomags\n",
    "\n",
    "def convolve_image(number,nanomaggy,degraded_image,sigma_nanomags,z,pixscale, view, background, counts, counts_sig, background_counts, t_exp):#all of these are in nanomags\n",
    "    #PSF = 1.61 arcsec\n",
    "    \n",
    "\n",
    "    \n",
    "\n",
    "    kpc_arcmin=cosmo.kpc_proper_per_arcmin(z)#insert the redshift to get the kpc/arcmin scaling\n",
    "\n",
    "    sigma=1.61/2.355#apparently the preimage sigma is not large :)\n",
    "    ##kpc/pix is the pixelscale\n",
    "    ##conversion factor is kpc/\"\n",
    "    #1.61 is the FWHM in arcsec of the psf\n",
    "    #pixelscale is kpc/pix\n",
    "    kernel_sigma_pix=(sigma*(kpc_arcmin.value/60))/pixscale\n",
    "  \n",
    "\n",
    "    gaussian_2D_kernel = Gaussian2DKernel(kernel_sigma_pix)#standard deviation in pixels\n",
    "\n",
    "\n",
    "\n",
    "    #result = convolve(np.sum(CAMERA0.data[:,:,:],axis=0), gaussian_2D_kernel)\n",
    "    result_nano = (convolve(nanomaggy, gaussian_2D_kernel))\n",
    "    result = (convolve(degraded_image, gaussian_2D_kernel))\n",
    "    result_bg = (convolve(background, gaussian_2D_kernel))\n",
    "    result_bg_counts = (convolve(background_counts, gaussian_2D_kernel))\n",
    "    result_error = (convolve(sigma_nanomags, gaussian_2D_kernel))\n",
    "    \n",
    "    result_counts = (convolve(counts, gaussian_2D_kernel))\n",
    "    result_error_counts = (convolve(counts_sig, gaussian_2D_kernel))\n",
    "\n",
    "   \n",
    "    \n",
    "    \n",
    "    \n",
    "   \n",
    "    #def convolve_image(number,nanomaggy,degraded_image,sigma_nanomags,z,pixscale, view, background, counts, counts_sig, background_counts, t_exp):#all of these are in nanomags\n",
    "    #return degraded image, bg, nanomaggy\n",
    "    return result, result_bg, result_nano, result_counts, result_error_counts, result_bg_counts\n",
    "    \n",
    "\n",
    "print('Compiled')"
   ]
  },
  {
   "cell_type": "code",
   "execution_count": 71,
   "metadata": {
    "collapsed": false
   },
   "outputs": [
    {
     "name": "stdout",
     "output_type": "stream",
     "text": [
      "<class 'list'> <class 'list'>\n",
      "(22, 182, 182)\n",
      "(22,)\n",
      "<class 'list'> <class 'list'>\n",
      "(17, 182, 182)\n",
      "(17,)\n",
      "shape bf (17,)\n",
      "[1, 1, 1, 0, 0, 1, 0, 0, 0, 1, 1, 0, 1, 0, 0, 1, 1]\n",
      "shape af (17, 2)\n",
      "[[0. 1.]\n",
      " [0. 1.]\n",
      " [0. 1.]\n",
      " [1. 0.]\n",
      " [1. 0.]\n",
      " [0. 1.]\n",
      " [1. 0.]\n",
      " [1. 0.]\n",
      " [1. 0.]\n",
      " [0. 1.]\n",
      " [0. 1.]\n",
      " [1. 0.]\n",
      " [0. 1.]\n",
      " [1. 0.]\n",
      " [1. 0.]\n",
      " [0. 1.]\n",
      " [0. 1.]]\n",
      "(17, 182, 182, 1)\n"
     ]
    }
   ],
   "source": [
    "from sklearn.model_selection import train_test_split\n",
    "print(type(X), type(y))\n",
    "print(np.shape(X))\n",
    "print(np.shape(y))\n",
    "\n",
    "\n",
    "X_train, X_test, y_train, y_test = train_test_split(X, y, test_size=0.2, random_state=0)\n",
    "    \n",
    "print(type(X_train), type(y_train))\n",
    "print(np.shape(X_train))\n",
    "print(np.shape(y_train))\n",
    "\n",
    "X_train = np.array(X_train)\n",
    "X_test = np.array(X_test)\n",
    "\n",
    "X_train = X_train.reshape(X_train.shape[0],  X_train.shape[1], X_train.shape[2], 1)\n",
    "X_test = X_test.reshape(X_test.shape[0],   X_test.shape[1], X_test.shape[2], 1)\n",
    "X_train = X_train.astype('float32')\n",
    "X_test = X_test.astype('float32')\n",
    "\n",
    "print('shape bf',np.shape(y_train))\n",
    "print(y_train)\n",
    "\n",
    "y_train = np_utils.to_categorical(y_train, 2)\n",
    "y_test = np_utils.to_categorical(y_test, 2)\n",
    "print('shape af',y_train.shape)\n",
    "print(y_train)\n",
    "\n",
    "print(X_train.shape)#print(y_train)\n"
   ]
  },
  {
   "cell_type": "code",
   "execution_count": 72,
   "metadata": {
    "collapsed": false
   },
   "outputs": [
    {
     "name": "stdout",
     "output_type": "stream",
     "text": [
      "(None, 180, 180, 32)\n"
     ]
    }
   ],
   "source": [
    "model = Sequential()\n",
    " \n",
    "model.add(Convolution2D(32, (3, 3), activation='relu', input_shape=( X_train.shape[1], X_train.shape[2], 1), data_format='channels_last'))\n",
    "print(model.output_shape)\n",
    "\n",
    "\n",
    "model.add(Convolution2D(32, (3, 3), activation='relu'))\n",
    "model.add(MaxPooling2D(pool_size=(2,2)))\n",
    "model.add(Dropout(0.25))\n",
    " \n",
    "model.add(Flatten())\n",
    "model.add(Dense(128, activation='relu'))\n",
    "model.add(Dropout(0.5))\n",
    "model.add(Dense(2, activation='softmax'))\n",
    " \n"
   ]
  },
  {
   "cell_type": "code",
   "execution_count": 73,
   "metadata": {
    "collapsed": false
   },
   "outputs": [
    {
     "name": "stderr",
     "output_type": "stream",
     "text": [
      "/Users/beckynevin/anaconda/lib/python3.6/site-packages/keras/models.py:981: UserWarning: The `nb_epoch` argument in `fit` has been renamed `epochs`.\n",
      "  warnings.warn('The `nb_epoch` argument in `fit` '\n"
     ]
    },
    {
     "name": "stdout",
     "output_type": "stream",
     "text": [
      "Epoch 1/10\n",
      "17/17 [==============================] - 3s 171ms/step - loss: 0.6955 - acc: 0.4118\n",
      "Epoch 2/10\n",
      "17/17 [==============================] - 2s 89ms/step - loss: 0.5233 - acc: 0.7059\n",
      "Epoch 3/10\n",
      "17/17 [==============================] - 2s 89ms/step - loss: 0.4090 - acc: 0.7647\n",
      "Epoch 4/10\n",
      "17/17 [==============================] - 1s 81ms/step - loss: 0.7926 - acc: 0.6471\n",
      "Epoch 5/10\n",
      "17/17 [==============================] - 1s 76ms/step - loss: 0.2459 - acc: 0.9412\n",
      "Epoch 6/10\n",
      "17/17 [==============================] - 1s 74ms/step - loss: 0.2100 - acc: 0.8824\n",
      "Epoch 7/10\n",
      "17/17 [==============================] - 1s 77ms/step - loss: 0.0964 - acc: 1.0000\n",
      "Epoch 8/10\n",
      "17/17 [==============================] - 1s 79ms/step - loss: 0.0412 - acc: 1.0000\n",
      "Epoch 9/10\n",
      "17/17 [==============================] - 1s 76ms/step - loss: 0.0674 - acc: 1.0000\n",
      "Epoch 10/10\n",
      "17/17 [==============================] - 1s 78ms/step - loss: 0.0384 - acc: 1.0000\n",
      "5/5 [==============================] - 0s 46ms/step\n"
     ]
    }
   ],
   "source": [
    "# 8. Compile model\n",
    "model.compile(loss='categorical_crossentropy',\n",
    "              optimizer='adam',\n",
    "              metrics=['accuracy'])\n",
    " \n",
    "# 9. Fit model on training data\n",
    "model.fit(X_train, y_train, \n",
    "          batch_size=32, nb_epoch=10, verbose=1)\n",
    " \n",
    "# 10. Evaluate model on test data\n",
    "score = model.evaluate(X_test, y_test, verbose=1)"
   ]
  },
  {
   "cell_type": "code",
   "execution_count": 76,
   "metadata": {
    "collapsed": false
   },
   "outputs": [
    {
     "name": "stdout",
     "output_type": "stream",
     "text": [
      "[0.009745675139129162, 1.0] loss accuracy\n",
      "Saved trained model at path \n"
     ]
    },
    {
     "name": "stderr",
     "output_type": "stream",
     "text": [
      "/Users/beckynevin/anaconda/lib/python3.6/site-packages/matplotlib/pyplot.py:537: RuntimeWarning: More than 20 figures have been opened. Figures created through the pyplot interface (`matplotlib.pyplot.figure`) are retained until explicitly closed and may consume too much memory. (To control this warning, see the rcParam `figure.max_open_warning`).\n",
      "  max_open_warning, RuntimeWarning)\n"
     ]
    },
    {
     "name": "stdout",
     "output_type": "stream",
     "text": [
      "[0.01044631 0.9895537 ]\n",
      "(182, 182)\n",
      "5\n",
      "[0. 1.]\n",
      "[2.1732468e-04 9.9978274e-01]\n",
      "(182, 182)\n",
      "5\n",
      "[0. 1.]\n",
      "[2.570763e-04 9.997429e-01]\n",
      "(182, 182)\n",
      "5\n",
      "[0. 1.]\n",
      "[2.0246756e-04 9.9979752e-01]\n",
      "(182, 182)\n",
      "5\n",
      "[0. 1.]\n",
      "[0.96314615 0.03685388]\n",
      "(182, 182)\n",
      "5\n",
      "[1. 0.]\n"
     ]
    }
   ],
   "source": [
    "print(score, 'loss','accuracy')\n",
    "model_path='path'\n",
    "model.save(model_path)\n",
    "print('Saved trained model at %s ' % model_path)\n",
    "plt.clf()\n",
    "fig, axs = plt.subplots(2,3, figsize=(9, 6), facecolor='w', edgecolor='k')\n",
    "fig.subplots_adjust(hspace = .1, wspace=.1)\n",
    "\n",
    "axs = axs.ravel()\n",
    "for j in range(len(X_test)):\n",
    "    print(model.predict(X_test)[j])\n",
    "    print(shape(X_test[j].reshape(X_test[j].shape[0],X_test[j].shape[1])))\n",
    "    print(len(X_test))\n",
    "    axs[j].imshow(abs(X_test[j].reshape(X_test[j].shape[0],X_test[j].shape[1])),norm=matplotlib.colors.LogNorm(vmin=0.01))#norm=matplotlib.colors.LogNorm(vmax=0.8))\n",
    "    #axs[j].annotate('Prediction [Nonmerging Merging]', color='white', xy=((0.1,0.95)), xycoords='axes fraction')\n",
    "    \n",
    "    #axs[j].annotate('                 ['+str(round(model.predict(X_test)[j][0],6))+' '+str(round(model.predict(X_test)[j][1],6))+']', color='white', xy=((0.1,0.9)), xycoords='axes fraction')\n",
    "    axs[j].annotate('['+str(round(model.predict(X_test)[j][0],6))+' '+str(round(model.predict(X_test)[j][1],6))+']', color='white', xy=((0.1,0.9)), xycoords='axes fraction')\n",
    "    \n",
    "    axs[j].annotate(str(y_test[j]), color='white', xy=((0.1,0.8)), xycoords='axes fraction')\n",
    "    #plt.colorbar()\n",
    "    axs[j].set_xticks([])\n",
    "    axs[j].set_yticks([])\n",
    "    print(y_test[j])\n",
    "    if j == len(X_test):\n",
    "        axs[j].set_visible(False)\n",
    "fig.delaxes(axs[j+1])\n",
    "plt.savefig('../MaNGA_Papers/Paper_I/keras_CNN_q0.1_fg0.3_BT0.2.pdf')"
   ]
  },
  {
   "cell_type": "code",
   "execution_count": 17,
   "metadata": {
    "collapsed": false
   },
   "outputs": [
    {
     "data": {
      "image/png": "[encoded data removed]",
      "text/plain": [
       "<Figure size 432x288 with 1 Axes>"
      ]
     },
     "metadata": {},
     "output_type": "display_data"
    }
   ],
   "source": []
  },
  {
   "cell_type": "code",
   "execution_count": 18,
   "metadata": {
    "collapsed": true
   },
   "outputs": [],
   "source": []
  },
  {
   "cell_type": "code",
   "execution_count": 19,
   "metadata": {
    "collapsed": false
   },
   "outputs": [
    {
     "name": "stdout",
     "output_type": "stream",
     "text": [
      "(60000, 1, 28, 28)\n"
     ]
    }
   ],
   "source": []
  },
  {
   "cell_type": "code",
   "execution_count": 20,
   "metadata": {
    "collapsed": true
   },
   "outputs": [],
   "source": []
  },
  {
   "cell_type": "code",
   "execution_count": 21,
   "metadata": {
    "collapsed": true
   },
   "outputs": [],
   "source": []
  },
  {
   "cell_type": "code",
   "execution_count": 23,
   "metadata": {
    "collapsed": false
   },
   "outputs": [
    {
     "name": "stderr",
     "output_type": "stream",
     "text": [
      "/Users/beckynevin/anaconda/lib/python3.6/site-packages/ipykernel/__main__.py:3: UserWarning: Update your `Conv2D` call to the Keras 2 API: `Conv2D(32, (3, 3), activation=\"relu\", input_shape=(1, 28, 28...)`\n",
      "  app.launch_new_instance()\n"
     ]
    },
    {
     "ename": "ValueError",
     "evalue": "Negative dimension size caused by subtracting 3 from 1 for 'conv2d_2/convolution' (op: 'Conv2D') with input shapes: [?,1,28,28], [3,3,28,32].",
     "output_type": "error",
     "traceback": [
      "\u001b[0;31m---------------------------------------------------------------------------\u001b[0m",
      "\u001b[0;31mInvalidArgumentError\u001b[0m                      Traceback (most recent call last)",
      "\u001b[0;32m~/anaconda/lib/python3.6/site-packages/tensorflow/python/framework/ops.py\u001b[0m in \u001b[0;36m_create_c_op\u001b[0;34m(graph, node_def, inputs, control_inputs)\u001b[0m\n\u001b[1;32m   1566\u001b[0m   \u001b[0;32mtry\u001b[0m\u001b[0;34m:\u001b[0m\u001b[0;34m\u001b[0m\u001b[0m\n\u001b[0;32m-> 1567\u001b[0;31m     \u001b[0mc_op\u001b[0m \u001b[0;34m=\u001b[0m \u001b[0mc_api\u001b[0m\u001b[0;34m.\u001b[0m\u001b[0mTF_FinishOperation\u001b[0m\u001b[0;34m(\u001b[0m\u001b[0mop_desc\u001b[0m\u001b[0;34m)\u001b[0m\u001b[0;34m\u001b[0m\u001b[0m\n\u001b[0m\u001b[1;32m   1568\u001b[0m   \u001b[0;32mexcept\u001b[0m \u001b[0merrors\u001b[0m\u001b[0;34m.\u001b[0m\u001b[0mInvalidArgumentError\u001b[0m \u001b[0;32mas\u001b[0m \u001b[0me\u001b[0m\u001b[0;34m:\u001b[0m\u001b[0;34m\u001b[0m\u001b[0m\n",
      "\u001b[0;31mInvalidArgumentError\u001b[0m: Negative dimension size caused by subtracting 3 from 1 for 'conv2d_2/convolution' (op: 'Conv2D') with input shapes: [?,1,28,28], [3,3,28,32].",
      "\nDuring handling of the above exception, another exception occurred:\n",
      "\u001b[0;31mValueError\u001b[0m                                Traceback (most recent call last)",
      "\u001b[0;32m<ipython-input-23-ab32396f1ebf>\u001b[0m in \u001b[0;36m<module>\u001b[0;34m()\u001b[0m\n\u001b[1;32m      1\u001b[0m \u001b[0mmodel\u001b[0m \u001b[0;34m=\u001b[0m \u001b[0mSequential\u001b[0m\u001b[0;34m(\u001b[0m\u001b[0;34m)\u001b[0m\u001b[0;34m\u001b[0m\u001b[0m\n\u001b[1;32m      2\u001b[0m \u001b[0;34m\u001b[0m\u001b[0m\n\u001b[0;32m----> 3\u001b[0;31m \u001b[0mmodel\u001b[0m\u001b[0;34m.\u001b[0m\u001b[0madd\u001b[0m\u001b[0;34m(\u001b[0m\u001b[0mConvolution2D\u001b[0m\u001b[0;34m(\u001b[0m\u001b[0;36m32\u001b[0m\u001b[0;34m,\u001b[0m \u001b[0;36m3\u001b[0m\u001b[0;34m,\u001b[0m \u001b[0;36m3\u001b[0m\u001b[0;34m,\u001b[0m \u001b[0mactivation\u001b[0m\u001b[0;34m=\u001b[0m\u001b[0;34m'relu'\u001b[0m\u001b[0;34m,\u001b[0m \u001b[0minput_shape\u001b[0m\u001b[0;34m=\u001b[0m\u001b[0;34m(\u001b[0m\u001b[0;36m1\u001b[0m\u001b[0;34m,\u001b[0m\u001b[0;36m28\u001b[0m\u001b[0;34m,\u001b[0m\u001b[0;36m28\u001b[0m\u001b[0;34m)\u001b[0m\u001b[0;34m)\u001b[0m\u001b[0;34m)\u001b[0m\u001b[0;34m\u001b[0m\u001b[0m\n\u001b[0m\u001b[1;32m      4\u001b[0m \u001b[0mmodel\u001b[0m\u001b[0;34m.\u001b[0m\u001b[0madd\u001b[0m\u001b[0;34m(\u001b[0m\u001b[0mConvolution2D\u001b[0m\u001b[0;34m(\u001b[0m\u001b[0;36m32\u001b[0m\u001b[0;34m,\u001b[0m \u001b[0;36m3\u001b[0m\u001b[0;34m,\u001b[0m \u001b[0;36m3\u001b[0m\u001b[0;34m,\u001b[0m \u001b[0mactivation\u001b[0m\u001b[0;34m=\u001b[0m\u001b[0;34m'relu'\u001b[0m\u001b[0;34m)\u001b[0m\u001b[0;34m)\u001b[0m\u001b[0;34m\u001b[0m\u001b[0m\n\u001b[1;32m      5\u001b[0m \u001b[0mmodel\u001b[0m\u001b[0;34m.\u001b[0m\u001b[0madd\u001b[0m\u001b[0;34m(\u001b[0m\u001b[0mMaxPooling2D\u001b[0m\u001b[0;34m(\u001b[0m\u001b[0mpool_size\u001b[0m\u001b[0;34m=\u001b[0m\u001b[0;34m(\u001b[0m\u001b[0;36m2\u001b[0m\u001b[0;34m,\u001b[0m\u001b[0;36m2\u001b[0m\u001b[0;34m)\u001b[0m\u001b[0;34m)\u001b[0m\u001b[0;34m)\u001b[0m\u001b[0;34m\u001b[0m\u001b[0m\n",
      "\u001b[0;32m~/anaconda/lib/python3.6/site-packages/keras/models.py\u001b[0m in \u001b[0;36madd\u001b[0;34m(self, layer)\u001b[0m\n\u001b[1;32m    495\u001b[0m                 \u001b[0;31m# and create the node connecting the current layer\u001b[0m\u001b[0;34m\u001b[0m\u001b[0;34m\u001b[0m\u001b[0m\n\u001b[1;32m    496\u001b[0m                 \u001b[0;31m# to the input layer we just created.\u001b[0m\u001b[0;34m\u001b[0m\u001b[0;34m\u001b[0m\u001b[0m\n\u001b[0;32m--> 497\u001b[0;31m                 \u001b[0mlayer\u001b[0m\u001b[0;34m(\u001b[0m\u001b[0mx\u001b[0m\u001b[0;34m)\u001b[0m\u001b[0;34m\u001b[0m\u001b[0m\n\u001b[0m\u001b[1;32m    498\u001b[0m \u001b[0;34m\u001b[0m\u001b[0m\n\u001b[1;32m    499\u001b[0m             \u001b[0;32mif\u001b[0m \u001b[0mlen\u001b[0m\u001b[0;34m(\u001b[0m\u001b[0mlayer\u001b[0m\u001b[0;34m.\u001b[0m\u001b[0m_inbound_nodes\u001b[0m\u001b[0;34m[\u001b[0m\u001b[0;34m-\u001b[0m\u001b[0;36m1\u001b[0m\u001b[0;34m]\u001b[0m\u001b[0;34m.\u001b[0m\u001b[0moutput_tensors\u001b[0m\u001b[0;34m)\u001b[0m \u001b[0;34m!=\u001b[0m \u001b[0;36m1\u001b[0m\u001b[0;34m:\u001b[0m\u001b[0;34m\u001b[0m\u001b[0m\n",
      "\u001b[0;32m~/anaconda/lib/python3.6/site-packages/keras/engine/topology.py\u001b[0m in \u001b[0;36m__call__\u001b[0;34m(self, inputs, **kwargs)\u001b[0m\n\u001b[1;32m    617\u001b[0m \u001b[0;34m\u001b[0m\u001b[0m\n\u001b[1;32m    618\u001b[0m             \u001b[0;31m# Actually call the layer, collecting output(s), mask(s), and shape(s).\u001b[0m\u001b[0;34m\u001b[0m\u001b[0;34m\u001b[0m\u001b[0m\n\u001b[0;32m--> 619\u001b[0;31m             \u001b[0moutput\u001b[0m \u001b[0;34m=\u001b[0m \u001b[0mself\u001b[0m\u001b[0;34m.\u001b[0m\u001b[0mcall\u001b[0m\u001b[0;34m(\u001b[0m\u001b[0minputs\u001b[0m\u001b[0;34m,\u001b[0m \u001b[0;34m**\u001b[0m\u001b[0mkwargs\u001b[0m\u001b[0;34m)\u001b[0m\u001b[0;34m\u001b[0m\u001b[0m\n\u001b[0m\u001b[1;32m    620\u001b[0m             \u001b[0moutput_mask\u001b[0m \u001b[0;34m=\u001b[0m \u001b[0mself\u001b[0m\u001b[0;34m.\u001b[0m\u001b[0mcompute_mask\u001b[0m\u001b[0;34m(\u001b[0m\u001b[0minputs\u001b[0m\u001b[0;34m,\u001b[0m \u001b[0mprevious_mask\u001b[0m\u001b[0;34m)\u001b[0m\u001b[0;34m\u001b[0m\u001b[0m\n\u001b[1;32m    621\u001b[0m \u001b[0;34m\u001b[0m\u001b[0m\n",
      "\u001b[0;32m~/anaconda/lib/python3.6/site-packages/keras/layers/convolutional.py\u001b[0m in \u001b[0;36mcall\u001b[0;34m(self, inputs)\u001b[0m\n\u001b[1;32m    166\u001b[0m                 \u001b[0mpadding\u001b[0m\u001b[0;34m=\u001b[0m\u001b[0mself\u001b[0m\u001b[0;34m.\u001b[0m\u001b[0mpadding\u001b[0m\u001b[0;34m,\u001b[0m\u001b[0;34m\u001b[0m\u001b[0m\n\u001b[1;32m    167\u001b[0m                 \u001b[0mdata_format\u001b[0m\u001b[0;34m=\u001b[0m\u001b[0mself\u001b[0m\u001b[0;34m.\u001b[0m\u001b[0mdata_format\u001b[0m\u001b[0;34m,\u001b[0m\u001b[0;34m\u001b[0m\u001b[0m\n\u001b[0;32m--> 168\u001b[0;31m                 dilation_rate=self.dilation_rate)\n\u001b[0m\u001b[1;32m    169\u001b[0m         \u001b[0;32mif\u001b[0m \u001b[0mself\u001b[0m\u001b[0;34m.\u001b[0m\u001b[0mrank\u001b[0m \u001b[0;34m==\u001b[0m \u001b[0;36m3\u001b[0m\u001b[0;34m:\u001b[0m\u001b[0;34m\u001b[0m\u001b[0m\n\u001b[1;32m    170\u001b[0m             outputs = K.conv3d(\n",
      "\u001b[0;32m~/anaconda/lib/python3.6/site-packages/keras/backend/tensorflow_backend.py\u001b[0m in \u001b[0;36mconv2d\u001b[0;34m(x, kernel, strides, padding, data_format, dilation_rate)\u001b[0m\n\u001b[1;32m   3339\u001b[0m         \u001b[0mstrides\u001b[0m\u001b[0;34m=\u001b[0m\u001b[0mstrides\u001b[0m\u001b[0;34m,\u001b[0m\u001b[0;34m\u001b[0m\u001b[0m\n\u001b[1;32m   3340\u001b[0m         \u001b[0mpadding\u001b[0m\u001b[0;34m=\u001b[0m\u001b[0mpadding\u001b[0m\u001b[0;34m,\u001b[0m\u001b[0;34m\u001b[0m\u001b[0m\n\u001b[0;32m-> 3341\u001b[0;31m         data_format=tf_data_format)\n\u001b[0m\u001b[1;32m   3342\u001b[0m \u001b[0;34m\u001b[0m\u001b[0m\n\u001b[1;32m   3343\u001b[0m     \u001b[0;32mif\u001b[0m \u001b[0mdata_format\u001b[0m \u001b[0;34m==\u001b[0m \u001b[0;34m'channels_first'\u001b[0m \u001b[0;32mand\u001b[0m \u001b[0mtf_data_format\u001b[0m \u001b[0;34m==\u001b[0m \u001b[0;34m'NHWC'\u001b[0m\u001b[0;34m:\u001b[0m\u001b[0;34m\u001b[0m\u001b[0m\n",
      "\u001b[0;32m~/anaconda/lib/python3.6/site-packages/tensorflow/python/ops/nn_ops.py\u001b[0m in \u001b[0;36mconvolution\u001b[0;34m(input, filter, padding, strides, dilation_rate, name, data_format)\u001b[0m\n\u001b[1;32m    778\u001b[0m         \u001b[0mname\u001b[0m\u001b[0;34m=\u001b[0m\u001b[0mname\u001b[0m\u001b[0;34m,\u001b[0m\u001b[0;34m\u001b[0m\u001b[0m\n\u001b[1;32m    779\u001b[0m         data_format=data_format)\n\u001b[0;32m--> 780\u001b[0;31m     \u001b[0;32mreturn\u001b[0m \u001b[0mop\u001b[0m\u001b[0;34m(\u001b[0m\u001b[0minput\u001b[0m\u001b[0;34m,\u001b[0m \u001b[0mfilter\u001b[0m\u001b[0;34m)\u001b[0m\u001b[0;34m\u001b[0m\u001b[0m\n\u001b[0m\u001b[1;32m    781\u001b[0m \u001b[0;34m\u001b[0m\u001b[0m\n\u001b[1;32m    782\u001b[0m \u001b[0;34m\u001b[0m\u001b[0m\n",
      "\u001b[0;32m~/anaconda/lib/python3.6/site-packages/tensorflow/python/ops/nn_ops.py\u001b[0m in \u001b[0;36m__call__\u001b[0;34m(self, inp, filter)\u001b[0m\n\u001b[1;32m    866\u001b[0m \u001b[0;34m\u001b[0m\u001b[0m\n\u001b[1;32m    867\u001b[0m   \u001b[0;32mdef\u001b[0m \u001b[0m__call__\u001b[0m\u001b[0;34m(\u001b[0m\u001b[0mself\u001b[0m\u001b[0;34m,\u001b[0m \u001b[0minp\u001b[0m\u001b[0;34m,\u001b[0m \u001b[0mfilter\u001b[0m\u001b[0;34m)\u001b[0m\u001b[0;34m:\u001b[0m  \u001b[0;31m# pylint: disable=redefined-builtin\u001b[0m\u001b[0;34m\u001b[0m\u001b[0m\n\u001b[0;32m--> 868\u001b[0;31m     \u001b[0;32mreturn\u001b[0m \u001b[0mself\u001b[0m\u001b[0;34m.\u001b[0m\u001b[0mconv_op\u001b[0m\u001b[0;34m(\u001b[0m\u001b[0minp\u001b[0m\u001b[0;34m,\u001b[0m \u001b[0mfilter\u001b[0m\u001b[0;34m)\u001b[0m\u001b[0;34m\u001b[0m\u001b[0m\n\u001b[0m\u001b[1;32m    869\u001b[0m \u001b[0;34m\u001b[0m\u001b[0m\n\u001b[1;32m    870\u001b[0m \u001b[0;34m\u001b[0m\u001b[0m\n",
      "\u001b[0;32m~/anaconda/lib/python3.6/site-packages/tensorflow/python/ops/nn_ops.py\u001b[0m in \u001b[0;36m__call__\u001b[0;34m(self, inp, filter)\u001b[0m\n\u001b[1;32m    518\u001b[0m \u001b[0;34m\u001b[0m\u001b[0m\n\u001b[1;32m    519\u001b[0m   \u001b[0;32mdef\u001b[0m \u001b[0m__call__\u001b[0m\u001b[0;34m(\u001b[0m\u001b[0mself\u001b[0m\u001b[0;34m,\u001b[0m \u001b[0minp\u001b[0m\u001b[0;34m,\u001b[0m \u001b[0mfilter\u001b[0m\u001b[0;34m)\u001b[0m\u001b[0;34m:\u001b[0m  \u001b[0;31m# pylint: disable=redefined-builtin\u001b[0m\u001b[0;34m\u001b[0m\u001b[0m\n\u001b[0;32m--> 520\u001b[0;31m     \u001b[0;32mreturn\u001b[0m \u001b[0mself\u001b[0m\u001b[0;34m.\u001b[0m\u001b[0mcall\u001b[0m\u001b[0;34m(\u001b[0m\u001b[0minp\u001b[0m\u001b[0;34m,\u001b[0m \u001b[0mfilter\u001b[0m\u001b[0;34m)\u001b[0m\u001b[0;34m\u001b[0m\u001b[0m\n\u001b[0m\u001b[1;32m    521\u001b[0m \u001b[0;34m\u001b[0m\u001b[0m\n\u001b[1;32m    522\u001b[0m \u001b[0;34m\u001b[0m\u001b[0m\n",
      "\u001b[0;32m~/anaconda/lib/python3.6/site-packages/tensorflow/python/ops/nn_ops.py\u001b[0m in \u001b[0;36m__call__\u001b[0;34m(self, inp, filter)\u001b[0m\n\u001b[1;32m    202\u001b[0m         \u001b[0mpadding\u001b[0m\u001b[0;34m=\u001b[0m\u001b[0mself\u001b[0m\u001b[0;34m.\u001b[0m\u001b[0mpadding\u001b[0m\u001b[0;34m,\u001b[0m\u001b[0;34m\u001b[0m\u001b[0m\n\u001b[1;32m    203\u001b[0m         \u001b[0mdata_format\u001b[0m\u001b[0;34m=\u001b[0m\u001b[0mself\u001b[0m\u001b[0;34m.\u001b[0m\u001b[0mdata_format\u001b[0m\u001b[0;34m,\u001b[0m\u001b[0;34m\u001b[0m\u001b[0m\n\u001b[0;32m--> 204\u001b[0;31m         name=self.name)\n\u001b[0m\u001b[1;32m    205\u001b[0m \u001b[0;34m\u001b[0m\u001b[0m\n\u001b[1;32m    206\u001b[0m \u001b[0;34m\u001b[0m\u001b[0m\n",
      "\u001b[0;32m~/anaconda/lib/python3.6/site-packages/tensorflow/python/ops/gen_nn_ops.py\u001b[0m in \u001b[0;36mconv2d\u001b[0;34m(input, filter, strides, padding, use_cudnn_on_gpu, data_format, dilations, name)\u001b[0m\n\u001b[1;32m    954\u001b[0m         \u001b[0;34m\"Conv2D\"\u001b[0m\u001b[0;34m,\u001b[0m \u001b[0minput\u001b[0m\u001b[0;34m=\u001b[0m\u001b[0minput\u001b[0m\u001b[0;34m,\u001b[0m \u001b[0mfilter\u001b[0m\u001b[0;34m=\u001b[0m\u001b[0mfilter\u001b[0m\u001b[0;34m,\u001b[0m \u001b[0mstrides\u001b[0m\u001b[0;34m=\u001b[0m\u001b[0mstrides\u001b[0m\u001b[0;34m,\u001b[0m\u001b[0;34m\u001b[0m\u001b[0m\n\u001b[1;32m    955\u001b[0m         \u001b[0mpadding\u001b[0m\u001b[0;34m=\u001b[0m\u001b[0mpadding\u001b[0m\u001b[0;34m,\u001b[0m \u001b[0muse_cudnn_on_gpu\u001b[0m\u001b[0;34m=\u001b[0m\u001b[0muse_cudnn_on_gpu\u001b[0m\u001b[0;34m,\u001b[0m\u001b[0;34m\u001b[0m\u001b[0m\n\u001b[0;32m--> 956\u001b[0;31m         data_format=data_format, dilations=dilations, name=name)\n\u001b[0m\u001b[1;32m    957\u001b[0m     \u001b[0m_result\u001b[0m \u001b[0;34m=\u001b[0m \u001b[0m_op\u001b[0m\u001b[0;34m.\u001b[0m\u001b[0moutputs\u001b[0m\u001b[0;34m[\u001b[0m\u001b[0;34m:\u001b[0m\u001b[0;34m]\u001b[0m\u001b[0;34m\u001b[0m\u001b[0m\n\u001b[1;32m    958\u001b[0m     \u001b[0m_inputs_flat\u001b[0m \u001b[0;34m=\u001b[0m \u001b[0m_op\u001b[0m\u001b[0;34m.\u001b[0m\u001b[0minputs\u001b[0m\u001b[0;34m\u001b[0m\u001b[0m\n",
      "\u001b[0;32m~/anaconda/lib/python3.6/site-packages/tensorflow/python/framework/op_def_library.py\u001b[0m in \u001b[0;36m_apply_op_helper\u001b[0;34m(self, op_type_name, name, **keywords)\u001b[0m\n\u001b[1;32m    785\u001b[0m         op = g.create_op(op_type_name, inputs, output_types, name=scope,\n\u001b[1;32m    786\u001b[0m                          \u001b[0minput_types\u001b[0m\u001b[0;34m=\u001b[0m\u001b[0minput_types\u001b[0m\u001b[0;34m,\u001b[0m \u001b[0mattrs\u001b[0m\u001b[0;34m=\u001b[0m\u001b[0mattr_protos\u001b[0m\u001b[0;34m,\u001b[0m\u001b[0;34m\u001b[0m\u001b[0m\n\u001b[0;32m--> 787\u001b[0;31m                          op_def=op_def)\n\u001b[0m\u001b[1;32m    788\u001b[0m       \u001b[0;32mreturn\u001b[0m \u001b[0moutput_structure\u001b[0m\u001b[0;34m,\u001b[0m \u001b[0mop_def\u001b[0m\u001b[0;34m.\u001b[0m\u001b[0mis_stateful\u001b[0m\u001b[0;34m,\u001b[0m \u001b[0mop\u001b[0m\u001b[0;34m\u001b[0m\u001b[0m\n\u001b[1;32m    789\u001b[0m \u001b[0;34m\u001b[0m\u001b[0m\n",
      "\u001b[0;32m~/anaconda/lib/python3.6/site-packages/tensorflow/python/framework/ops.py\u001b[0m in \u001b[0;36mcreate_op\u001b[0;34m(self, op_type, inputs, dtypes, input_types, name, attrs, op_def, compute_shapes, compute_device)\u001b[0m\n\u001b[1;32m   3390\u001b[0m           \u001b[0minput_types\u001b[0m\u001b[0;34m=\u001b[0m\u001b[0minput_types\u001b[0m\u001b[0;34m,\u001b[0m\u001b[0;34m\u001b[0m\u001b[0m\n\u001b[1;32m   3391\u001b[0m           \u001b[0moriginal_op\u001b[0m\u001b[0;34m=\u001b[0m\u001b[0mself\u001b[0m\u001b[0;34m.\u001b[0m\u001b[0m_default_original_op\u001b[0m\u001b[0;34m,\u001b[0m\u001b[0;34m\u001b[0m\u001b[0m\n\u001b[0;32m-> 3392\u001b[0;31m           op_def=op_def)\n\u001b[0m\u001b[1;32m   3393\u001b[0m \u001b[0;34m\u001b[0m\u001b[0m\n\u001b[1;32m   3394\u001b[0m       \u001b[0;31m# Note: shapes are lazily computed with the C API enabled.\u001b[0m\u001b[0;34m\u001b[0m\u001b[0;34m\u001b[0m\u001b[0m\n",
      "\u001b[0;32m~/anaconda/lib/python3.6/site-packages/tensorflow/python/framework/ops.py\u001b[0m in \u001b[0;36m__init__\u001b[0;34m(self, node_def, g, inputs, output_types, control_inputs, input_types, original_op, op_def)\u001b[0m\n\u001b[1;32m   1732\u001b[0m           op_def, inputs, node_def.attr)\n\u001b[1;32m   1733\u001b[0m       self._c_op = _create_c_op(self._graph, node_def, grouped_inputs,\n\u001b[0;32m-> 1734\u001b[0;31m                                 control_input_ops)\n\u001b[0m\u001b[1;32m   1735\u001b[0m     \u001b[0;32melse\u001b[0m\u001b[0;34m:\u001b[0m\u001b[0;34m\u001b[0m\u001b[0m\n\u001b[1;32m   1736\u001b[0m       \u001b[0mself\u001b[0m\u001b[0;34m.\u001b[0m\u001b[0m_c_op\u001b[0m \u001b[0;34m=\u001b[0m \u001b[0;32mNone\u001b[0m\u001b[0;34m\u001b[0m\u001b[0m\n",
      "\u001b[0;32m~/anaconda/lib/python3.6/site-packages/tensorflow/python/framework/ops.py\u001b[0m in \u001b[0;36m_create_c_op\u001b[0;34m(graph, node_def, inputs, control_inputs)\u001b[0m\n\u001b[1;32m   1568\u001b[0m   \u001b[0;32mexcept\u001b[0m \u001b[0merrors\u001b[0m\u001b[0;34m.\u001b[0m\u001b[0mInvalidArgumentError\u001b[0m \u001b[0;32mas\u001b[0m \u001b[0me\u001b[0m\u001b[0;34m:\u001b[0m\u001b[0;34m\u001b[0m\u001b[0m\n\u001b[1;32m   1569\u001b[0m     \u001b[0;31m# Convert to ValueError for backwards compatibility.\u001b[0m\u001b[0;34m\u001b[0m\u001b[0;34m\u001b[0m\u001b[0m\n\u001b[0;32m-> 1570\u001b[0;31m     \u001b[0;32mraise\u001b[0m \u001b[0mValueError\u001b[0m\u001b[0;34m(\u001b[0m\u001b[0mstr\u001b[0m\u001b[0;34m(\u001b[0m\u001b[0me\u001b[0m\u001b[0;34m)\u001b[0m\u001b[0;34m)\u001b[0m\u001b[0;34m\u001b[0m\u001b[0m\n\u001b[0m\u001b[1;32m   1571\u001b[0m \u001b[0;34m\u001b[0m\u001b[0m\n\u001b[1;32m   1572\u001b[0m   \u001b[0;32mreturn\u001b[0m \u001b[0mc_op\u001b[0m\u001b[0;34m\u001b[0m\u001b[0m\n",
      "\u001b[0;31mValueError\u001b[0m: Negative dimension size caused by subtracting 3 from 1 for 'conv2d_2/convolution' (op: 'Conv2D') with input shapes: [?,1,28,28], [3,3,28,32]."
     ]
    }
   ],
   "source": []
  },
  {
   "cell_type": "code",
   "execution_count": 6,
   "metadata": {
    "collapsed": false
   },
   "outputs": [
    {
     "name": "stderr",
     "output_type": "stream",
     "text": [
      "/Users/beckynevin/anaconda/lib/python3.6/site-packages/h5py/__init__.py:36: FutureWarning: Conversion of the second argument of issubdtype from `float` to `np.floating` is deprecated. In future, it will be treated as `np.float64 == np.dtype(float).type`.\n",
      "  from ._conv import register_converters as _register_converters\n",
      "Using TensorFlow backend.\n"
     ]
    },
    {
     "data": {
      "text/plain": [
       "<Figure size 432x288 with 0 Axes>"
      ]
     },
     "metadata": {},
     "output_type": "display_data"
    },
    {
     "data": {
      "text/plain": [
       "<Figure size 432x288 with 0 Axes>"
      ]
     },
     "metadata": {},
     "output_type": "display_data"
    },
    {
     "data": {
      "text/plain": [
       "<Figure size 432x288 with 0 Axes>"
      ]
     },
     "metadata": {},
     "output_type": "display_data"
    },
    {
     "data": {
      "text/plain": [
       "<Figure size 432x288 with 0 Axes>"
      ]
     },
     "metadata": {},
     "output_type": "display_data"
    },
    {
     "data": {
      "text/plain": [
       "<Figure size 432x288 with 0 Axes>"
      ]
     },
     "metadata": {},
     "output_type": "display_data"
    },
    {
     "data": {
      "text/plain": [
       "<Figure size 432x288 with 0 Axes>"
      ]
     },
     "metadata": {},
     "output_type": "display_data"
    },
    {
     "data": {
      "text/plain": [
       "<Figure size 432x288 with 0 Axes>"
      ]
     },
     "metadata": {},
     "output_type": "display_data"
    },
    {
     "data": {
      "text/plain": [
       "<Figure size 432x288 with 0 Axes>"
      ]
     },
     "metadata": {},
     "output_type": "display_data"
    },
    {
     "data": {
      "text/plain": [
       "<Figure size 432x288 with 0 Axes>"
      ]
     },
     "metadata": {},
     "output_type": "display_data"
    },
    {
     "data": {
      "text/plain": [
       "<Figure size 432x288 with 0 Axes>"
      ]
     },
     "metadata": {},
     "output_type": "display_data"
    },
    {
     "data": {
      "text/plain": [
       "<Figure size 432x288 with 0 Axes>"
      ]
     },
     "metadata": {},
     "output_type": "display_data"
    },
    {
     "data": {
      "text/plain": [
       "<Figure size 432x288 with 0 Axes>"
      ]
     },
     "metadata": {},
     "output_type": "display_data"
    },
    {
     "data": {
      "text/plain": [
       "<Figure size 432x288 with 0 Axes>"
      ]
     },
     "metadata": {},
     "output_type": "display_data"
    },
    {
     "data": {
      "text/plain": [
       "<Figure size 432x288 with 0 Axes>"
      ]
     },
     "metadata": {},
     "output_type": "display_data"
    },
    {
     "data": {
      "text/plain": [
       "<Figure size 432x288 with 0 Axes>"
      ]
     },
     "metadata": {},
     "output_type": "display_data"
    },
    {
     "data": {
      "text/plain": [
       "<Figure size 432x288 with 0 Axes>"
      ]
     },
     "metadata": {},
     "output_type": "display_data"
    },
    {
     "data": {
      "text/plain": [
       "<Figure size 432x288 with 0 Axes>"
      ]
     },
     "metadata": {},
     "output_type": "display_data"
    },
    {
     "data": {
      "text/plain": [
       "<Figure size 432x288 with 0 Axes>"
      ]
     },
     "metadata": {},
     "output_type": "display_data"
    },
    {
     "data": {
      "text/plain": [
       "<Figure size 432x288 with 0 Axes>"
      ]
     },
     "metadata": {},
     "output_type": "display_data"
    },
    {
     "data": {
      "text/plain": [
       "<Figure size 432x288 with 0 Axes>"
      ]
     },
     "metadata": {},
     "output_type": "display_data"
    },
    {
     "data": {
      "text/plain": [
       "<Figure size 432x288 with 0 Axes>"
      ]
     },
     "metadata": {},
     "output_type": "display_data"
    },
    {
     "data": {
      "text/plain": [
       "<Figure size 432x288 with 0 Axes>"
      ]
     },
     "metadata": {},
     "output_type": "display_data"
    },
    {
     "data": {
      "image/png": "[encoded data removed]",
      "text/plain": [
       "<Figure size 432x288 with 1 Axes>"
      ]
     },
     "metadata": {},
     "output_type": "display_data"
    },
    {
     "data": {
      "image/png": "[encoded data removed]",
      "text/plain": [
       "<Figure size 432x288 with 1 Axes>"
      ]
     },
     "metadata": {},
     "output_type": "display_data"
    },
    {
     "data": {
      "image/png": "[encoded data removed]",
      "text/plain": [
       "<Figure size 432x288 with 1 Axes>"
      ]
     },
     "metadata": {},
     "output_type": "display_data"
    },
    {
     "data": {
      "image/png": "[encoded data removed]",
      "text/plain": [
       "<Figure size 432x288 with 1 Axes>"
      ]
     },
     "metadata": {},
     "output_type": "display_data"
    },
    {
     "data": {
      "image/png": "[encoded data removed]",
      "text/plain": [
       "<Figure size 432x288 with 1 Axes>"
      ]
     },
     "metadata": {},
     "output_type": "display_data"
    },
    {
     "name": "stdout",
     "output_type": "stream",
     "text": [
      "[5 0 4 1 9]\n",
      "<class 'numpy.ndarray'>\n",
      "<class 'numpy.ndarray'>\n",
      "(60000, 28, 28)\n"
     ]
    },
    {
     "ename": "NameError",
     "evalue": "name 'STOP' is not defined",
     "output_type": "error",
     "traceback": [
      "\u001b[0;31m---------------------------------------------------------------------------\u001b[0m",
      "\u001b[0;31mNameError\u001b[0m                                 Traceback (most recent call last)",
      "\u001b[0;32m<ipython-input-6-526fe55edef4>\u001b[0m in \u001b[0;36m<module>\u001b[0;34m()\u001b[0m\n\u001b[1;32m     18\u001b[0m \u001b[0mprint\u001b[0m\u001b[0;34m(\u001b[0m\u001b[0mtype\u001b[0m\u001b[0;34m(\u001b[0m\u001b[0my_train\u001b[0m\u001b[0;34m)\u001b[0m\u001b[0;34m)\u001b[0m\u001b[0;34m\u001b[0m\u001b[0m\n\u001b[1;32m     19\u001b[0m \u001b[0mprint\u001b[0m\u001b[0;34m(\u001b[0m\u001b[0mnp\u001b[0m\u001b[0;34m.\u001b[0m\u001b[0mshape\u001b[0m\u001b[0;34m(\u001b[0m\u001b[0mX_train\u001b[0m\u001b[0;34m)\u001b[0m\u001b[0;34m)\u001b[0m\u001b[0;34m\u001b[0m\u001b[0m\n\u001b[0;32m---> 20\u001b[0;31m \u001b[0mSTOP\u001b[0m\u001b[0;34m\u001b[0m\u001b[0m\n\u001b[0m\u001b[1;32m     21\u001b[0m \u001b[0;31m# 5. Preprocess input data\u001b[0m\u001b[0;34m\u001b[0m\u001b[0;34m\u001b[0m\u001b[0m\n\u001b[1;32m     22\u001b[0m \u001b[0mX_train\u001b[0m \u001b[0;34m=\u001b[0m \u001b[0mX_train\u001b[0m\u001b[0;34m.\u001b[0m\u001b[0mreshape\u001b[0m\u001b[0;34m(\u001b[0m\u001b[0mX_train\u001b[0m\u001b[0;34m.\u001b[0m\u001b[0mshape\u001b[0m\u001b[0;34m[\u001b[0m\u001b[0;36m0\u001b[0m\u001b[0;34m]\u001b[0m\u001b[0;34m,\u001b[0m \u001b[0;36m28\u001b[0m\u001b[0;34m,\u001b[0m \u001b[0;36m28\u001b[0m\u001b[0;34m,\u001b[0m \u001b[0;36m1\u001b[0m\u001b[0;34m)\u001b[0m\u001b[0;34m\u001b[0m\u001b[0m\n",
      "\u001b[0;31mNameError\u001b[0m: name 'STOP' is not defined"
     ]
    }
   ],
   "source": [
    "# 3. Import libraries and modules\n",
    "import numpy as np\n",
    "np.random.seed(123)  # for reproducibility\n",
    " \n",
    "from keras.models import Sequential\n",
    "from keras.layers import Dense, Dropout, Activation, Flatten\n",
    "from keras.layers import Convolution2D, MaxPooling2D\n",
    "from keras.utils import np_utils\n",
    "from keras.datasets import mnist\n",
    " \n",
    "# 4. Load pre-shuffled MNIST data into train and test sets\n",
    "(X_train, y_train), (X_test, y_test) = mnist.load_data()\n",
    "for j in range(5):\n",
    "    plt.imshow(X_train[j])\n",
    "    plt.show()\n",
    "print(y_train[0:5])\n",
    "print(type(X_train))\n",
    "print(type(y_train))\n",
    "print(np.shape(X_train))\n",
    "STOP\n",
    "# 5. Preprocess input data\n",
    "X_train = X_train.reshape(X_train.shape[0], 28, 28, 1)\n",
    "X_test = X_test.reshape(X_test.shape[0],  28, 28, 1)\n",
    "X_train = X_train.astype('float32')\n",
    "X_test = X_test.astype('float32')\n",
    "X_train /= 255\n",
    "X_test /= 255\n",
    " \n",
    "# 6. Preprocess class labels\n",
    "print(np.shape(y_train))\n",
    "Y_train = np_utils.to_categorical(y_train, 10)\n",
    "Y_test = np_utils.to_categorical(y_test, 10)\n",
    " \n",
    "print(np.shape(Y_train))\n",
    "    \n",
    "STOP\n",
    "# 7. Define model architecture\n",
    "model = Sequential()\n",
    " \n",
    "model.add(Convolution2D(32, 3, 3, activation='relu', input_shape=(28,28,1)))\n",
    "model.add(Convolution2D(32, 3, 3, activation='relu'))\n",
    "model.add(MaxPooling2D(pool_size=(2,2)))\n",
    "model.add(Dropout(0.25))\n",
    " \n",
    "model.add(Flatten())\n",
    "model.add(Dense(128, activation='relu'))\n",
    "model.add(Dropout(0.5))\n",
    "model.add(Dense(10, activation='softmax'))\n",
    " \n",
    "# 8. Compile model\n",
    "model.compile(loss='categorical_crossentropy',\n",
    "              optimizer='adam',\n",
    "              metrics=['accuracy'])\n",
    " \n",
    "# 9. Fit model on training data\n",
    "model.fit(X_train, Y_train, \n",
    "          batch_size=32, nb_epoch=10, verbose=1)\n",
    " \n",
    "# 10. Evaluate model on test data\n",
    "score = model.evaluate(X_test, Y_test, verbose=0)"
   ]
  },
  {
   "cell_type": "code",
   "execution_count": null,
   "metadata": {
    "collapsed": true
   },
   "outputs": [],
   "source": []
  }
 ],
 "metadata": {
  "kernelspec": {
   "display_name": "Python 3",
   "language": "python",
   "name": "python3"
  },
  "language_info": {
   "codemirror_mode": {
    "name": "ipython",
    "version": 3
   },
   "file_extension": ".py",
   "mimetype": "text/x-python",
   "name": "python",
   "nbconvert_exporter": "python",
   "pygments_lexer": "ipython3",
   "version": "3.6.0"
  }
 },
 "nbformat": 4,
 "nbformat_minor": 2
}
