{
 "cells": [
  {
   "cell_type": "code",
   "execution_count": 1,
   "metadata": {
    "collapsed": false
   },
   "outputs": [
    {
     "name": "stdout",
     "output_type": "stream",
     "text": [
      "Begin\n"
     ]
    }
   ],
   "source": [
    "print('Begin')"
   ]
  },
  {
   "cell_type": "code",
   "execution_count": 2,
   "metadata": {
    "collapsed": false
   },
   "outputs": [
    {
     "name": "stdout",
     "output_type": "stream",
     "text": [
      "['', '/Users/beckynevin/anaconda/lib/python36.zip', '/Users/beckynevin/anaconda/lib/python3.6', '/Users/beckynevin/anaconda/lib/python3.6/lib-dynload', '/Users/beckynevin/anaconda/lib/python3.6/site-packages', '/Users/beckynevin/anaconda/lib/python3.6/site-packages/Sphinx-1.5.1-py3.6.egg', '/Users/beckynevin/anaconda/lib/python3.6/site-packages/aeosa', '/Users/beckynevin/anaconda/lib/python3.6/site-packages/setuptools-27.2.0-py3.6.egg', '/Users/beckynevin/anaconda/lib/python3.6/site-packages/IPython/extensions', '/Users/beckynevin/.ipython', '/usr/local/lib/python2.7/site-packages', '/usr/local/lib/python2.7/site-packages/ppxf']\n",
      "/Volumes/My Passport for Mac/LAURA_Sims\n",
      "/Volumes/My Passport for Mac/LAURA_Sims/q0.5_fg0.3_allrx10_sunruns/hirestest_kin\n"
     ]
    }
   ],
   "source": [
    "'''For checking 3D space velocity against the grid values'''\n",
    "'''Moved everything over from the XSEDE systemspec=pyfits.open('mcrx_200.fits')\n",
    "CAMERA0=spec[25]\n",
    "print(CAMERA0.header)\n",
    "print(CAMERA0.header['CD1_1'])\n",
    "Ang=[x[0]*10**(10) for x in spec[5].data]#'''\n",
    "\n",
    "import sys \n",
    "sys.path.append('/usr/local/lib/python2.7/site-packages/ppxf')\n",
    "print(sys.path)\n",
    "import pyfits\n",
    "import numpy as np\n",
    "import matplotlib.pyplot as plt\n",
    "from astropy.cosmology import WMAP9 as cosmo\n",
    "from astropy.convolution import Gaussian1DKernel\n",
    "from astropy.convolution import convolve\n",
    "from ppxf import ppxf\n",
    "import ppxf_util as util\n",
    "from matplotlib.colors import LogNorm\n",
    "import glob\n",
    "from time import clock\n",
    "\n",
    "import os\n",
    "\n",
    "#spec=pyfits.open('q0.5_fg0.3_allrx10_sunruns/mcrx_200.fits')\n",
    "#My\\ Passport\\ for\\ Mac/\n",
    "print(os.getcwd())\n",
    "#Below is the older version (pre absorption lines):\n",
    "#os.chdir(os.path.expanduser('/Volumes/My Passport for Mac/LAURA_Sims/q0.5_fg0.3_allrx10_sunruns/test_Smodel_hires_testlrange2'))\n",
    "os.chdir(os.path.expanduser('/Volumes/My Passport for Mac/LAURA_Sims/q0.5_fg0.3_allrx10_sunruns/hirestest_kin/'))\n",
    "print(os.getcwd())"
   ]
  },
  {
   "cell_type": "code",
   "execution_count": 3,
   "metadata": {
    "collapsed": false
   },
   "outputs": [
    {
     "name": "stdout",
     "output_type": "stream",
     "text": [
      "XTENSION= 'IMAGE   '           / IMAGE extension                                BITPIX  =                  -64 / number of bits per data pixel                  NAXIS   =                    3 / number of data axes                            NAXIS1  =                  300 / length of data axis 1                          NAXIS2  =                  300 / length of data axis 2                          NAXIS3  =                   10 / length of data axis 3                          PCOUNT  =                    0 / required keyword; must = 0                     GCOUNT  =                    1 / required keyword; must = 1                     EXTNAME = 'CAMERA0-AUX'                                                         HDUVERS =                    1                                                  COMMENT This HDU contains the images of the auxiliary quantities.  The third dimCOMMENT ension runs over the different quantities, see the xxxSLICE keywords forCOMMENT  which is which.                                                        CTYPE1  = 'linear  '                                                            CTYPE2  = 'linear  '                                                            CRPIX1  =                 150.                                                  CRPIX2  =                 150.                                                  CRVAL1  =                    0                                                  CRVAL2  =                    0                                                  CD1_1   =    0.166666666666667 / [kpc]                                          CD1_2   =                    0 / [kpc]                                          CD2_1   =                    0 / [kpc]                                          CD2_2   =    0.166666666666667 / [kpc]                                          HIERARCH normalization =    1. / Image normalization (internal usage)           SD_FACTR=     1130973.35529233 / Internal units to surface density              IMUNIT  = 'Q/kpc^2 '           / All extensive quantities are given as surface dMG_SLICE=                    1 / Gas mass is slice 1                            MG_UNIT = 'Msun/kpc^2'         / Gas mass unit                                  MM_SLICE=                    2 / Metal mass is slice 2                          MM_UNIT = 'Msun/kpc^2'         / Metal mass unit                                SFRSLICE=                    3 / SFR is slice 3                                 SFR_UNIT= 'Msun/yr/kpc^2'      / SFR unit                                       GASTSLIC=                    4 / Gas mass-weighted temperature is slice 4       GASTUNIT= 'K       '           / Temperature unit                               MS_SLICE=                    5 / Stellar mass is slice 5                        MS_UNIT = 'Msun/kpc^2'         / Stellar mass unit                              MMSSLICE=                    6 / Metals in stars is slice 6                     MMS_UNIT= 'Msun/kpc^2'         / Stellar metal mass unit                        LB_SLICE=                    7 / L_bol is slice 7                               LB_UNIT = 'W/kpc^2 '           / L_bol unit                                     AGEMSLIC=                    8 / Mass-weighted stellar age is slice 8           AGEMUNIT= 'yr      '           / Age unit                                       AGELSLIC=                    9 / Luminosity-weighted stellar age is slice 9     AGELUNIT= 'yr      '           / Age unit                                       HIERARCH particle_normalization = 72753725298.2218 / Normalization for particle END                                                                                                                                                                                                                                                                                                                                                                                                                                                                                                                                                                                                                                                                                                                                                                                                                                                                                                                                                                                                                                                                                                                                                                                                                                                                                                                                                                                                                                                                                                                                                                                                                                                                                                                                                                                                                                                                                                                                                                                                                                                                                                                                                                                                                                             \n",
      "XTENSION= 'IMAGE   '           / IMAGE extension                                BITPIX  =                  -32 / number of bits per data pixel                  NAXIS   =                    3 / number of data axes                            NAXIS1  =                  300 / length of data axis 1                          NAXIS2  =                  300 / length of data axis 2                          NAXIS3  =                11781 / length of data axis 3                          PCOUNT  =                    0 / required keyword; must = 0                     GCOUNT  =                    1 / required keyword; must = 1                     EXTNAME = 'CAMERA0 '                                                            HDUVERS =                    1                                                  COMMENT This HDU contains the full SED camera image, without any scattering.  ThCOMMENT e third dimension of the data cube is wavelength, see HDU LAMBDA for whaCOMMENT t the wavelengths are.                                                  CTYPE1  = 'linear  '                                                            CTYPE2  = 'linear  '                                                            CRPIX1  =                 150.                                                  CRPIX2  =                 150.                                                  CRVAL1  =                    0                                                  CRVAL2  =                    0                                                  CD1_1   =    0.166666666666667 / [kpc]                                          CD1_2   =                    0 / [kpc]                                          CD2_1   =                    0 / [kpc]                                          CD2_2   =    0.166666666666667 / [kpc]                                          IMUNIT  = 'W/m/m^2/sr'         / Pixel quantity is surface brightness           UNITCONV= 9.45238524920703E-35 / [m^2/(kpc^2)] Internal units to surface brightnHIERARCH normalization =    1. / Image normalization (internal usage)           CHECKSUM= 'HUH8HTH5HTH5HTH5'   / HDU checksum updated 2017-04-28T16:28:26       DATASUM = '1276174243'         / data unit checksum updated 2017-04-28T16:28:26 END                                                                                                                                                                                                                                                                                                                                                                                                                                                                                                                                                                                                                                                             \n",
      "0.166666666666667\n"
     ]
    }
   ],
   "source": [
    "spec=pyfits.open('mcrx_200.fits')\n",
    "print(spec[32].header)#spec[10] and spec[11] are camera0-parameters and camera1-\n",
    "\n",
    "CAMERA0=spec[25]\n",
    "print(CAMERA0.header)\n",
    "print(CAMERA0.header['CD1_1'])\n",
    "Ang=[x[0]*10**(10) for x in spec[5].data]#\n",
    "\n"
   ]
  },
  {
   "cell_type": "code",
   "execution_count": 4,
   "metadata": {
    "collapsed": false
   },
   "outputs": [
    {
     "name": "stdout",
     "output_type": "stream",
     "text": [
      "XTENSION= 'BINTABLE'           / binary table extension                         BITPIX  =                    8 / 8-bit bytes                                    NAXIS   =                    2 / 2-dimensional binary table                     NAXIS1  =                47236 / width of table in bytes                        NAXIS2  =              2415221 / number of rows in table                        PCOUNT  =                    0 / size of special data area                      GCOUNT  =                    1 / one data group (required keyword)              TFIELDS =                   12 / number of fields in each row                   EXTNAME = 'PARTICLEDATA'       / name of this binary table extension            TTYPE1  = 'ID      '           / label for field                                TFORM1  = 'J       '           / format of field                                TZERO1  =           2147483648 / offset for unsigned integers                   TSCAL1  =                    1 / data are not scaled                            TTYPE2  = 'mass    '           / label for field                                TFORM2  = 'D       '           / format of field                                TUNIT2  = 'Msun    '                                                            TTYPE3  = 'position'           / label for field                                TFORM3  = '3D      '           / format of field                                TUNIT3  = 'kpc     '                                                            TTYPE4  = 'velocity'           / label for field                                TFORM4  = '3D      '           / format of field                                TUNIT4  = 'kpc/yr  '                                                            TTYPE5  = 'radius  '           / label for field                                TFORM5  = 'D       '           / format of field                                TUNIT5  = 'kpc     '                                                            TTYPE6  = 'metallicity'        / label for field                                TFORM6  = 'D       '           / format of field                                TTYPE7  = 'formation_time'     / label for field                                TFORM7  = 'D       '           / format of field                                TUNIT7  = 'yr      '                                                            TTYPE8  = 'parent_ID'          / label for field                                TFORM8  = 'J       '           / format of field                                TTYPE9  = 'creation_mass'      / label for field                                TFORM9  = 'D       '           / format of field                                TUNIT9  = 'Msun    '                                                            TTYPE10 = 'age     '           / label for field                                TFORM10 = 'D       '           / format of field                                TUNIT10 = 'yr      '                                                            TTYPE11 = 'L_lambda'           / label for field                                TFORM11 = '11781E  '           / format of field                                TUNIT11 = 'W/m     '                                                            TTYPE12 = 'L_bol   '           / label for field                                TFORM12 = 'D       '           / format of field                                TUNIT12 = 'W       '                                                            LOGFLUX =                    T / Column L_lambda values are log (L_lambda)      END                                                                                                                                                                                                                                                                                                                                                                                                                                                                                                                                                                                                                                                                                                                                                                                                                                                                                                                                                                                                                                                                                                                                                                                                                                                                                                                                                                                                                                                                                                                                                                                                                                                                                                                                                                                                                                                                                                                                                                                                                                                                                                                                                                                                                                             \n"
     ]
    }
   ],
   "source": [
    "grid=pyfits.open('grid_200.fits')\n",
    "print(grid['PARTICLEDATA'].header)\n",
    "\n"
   ]
  },
  {
   "cell_type": "code",
   "execution_count": null,
   "metadata": {
    "collapsed": false
   },
   "outputs": [
    {
     "name": "stdout",
     "output_type": "stream",
     "text": [
      "[    41835.51547093     41835.51547093     41835.51547093 ...,\n",
      "     13945.86856155  10562134.30794222  13605724.75407805]\n",
      "[[ -4.99356694  -8.70636624  -0.15280274]\n",
      " [ -4.53839726 -31.66702908 -13.08952186]\n",
      " [  5.32408086  10.7917068    4.64798255]\n",
      " ..., \n",
      " [  4.93337411   8.48448933   0.46738974]\n",
      " [ -4.93273342  -8.57674282  -0.4479779 ]\n",
      " [  4.92300699   8.5607751    0.45560369]]\n",
      "[[ -2.68241238e-07   1.06286260e-07  -1.60019774e-07]\n",
      " [  2.75001269e-08  -5.92960260e-08  -3.06404861e-08]\n",
      " [  4.05112400e-08  -1.02671677e-07  -1.23385437e-07]\n",
      " ..., \n",
      " [ -1.15895389e-08  -4.94253130e-08   1.84269682e-07]\n",
      " [  9.38295748e-08   1.56709358e-07  -8.56147022e-08]\n",
      " [  1.32837179e-08  -1.57664964e-07   1.19107217e-08]]\n",
      "2415221\n",
      "3.61399483854e-07"
     ]
    }
   ],
   "source": [
    "parts=grid['PARTICLEDATA'].data\n",
    "print(parts['mass'][10:])#kpc\n",
    "print(parts['position'][10:])#kpc\n",
    "print(parts['velocity'][10:])#kpc/yr\n",
    "print(len(parts['velocity']))\n",
    "vel_3d=np.sqrt(parts['velocity'][:10][0][0]**2+parts['velocity'][:10][0][1]**2+\n",
    "     parts['velocity'][:10][0][2]**2)\n",
    "print(vel_3d, 'kpc/yr')\n",
    "print(vel_3d*(3.086e16/3.154e7), 'km/s')\n",
    "print(parts['radius'][10:])\n",
    "print(type(parts))\n",
    "plt.clf()\n",
    "\n",
    "kpc_arcmin=cosmo.kpc_proper_per_arcmin(0.03)#insert the redshift to get the kpc/arcmin scaling\n",
    "\n",
    "kpc_arcsec=(kpc_arcmin.value/60)#\n",
    "\n",
    "xs=[]\n",
    "ys=[]\n",
    "vel=[]\n",
    "L_bol=[]\n",
    "for i in range(len(parts['velocity'])):#parts['velocity']\n",
    "    xs.append(parts['position'][i][0]/kpc_arcsec)#now in arcsec\n",
    "    ys.append(parts['position'][i][1]/kpc_arcsec)#now in arcsec\n",
    "    L_bol.append(parts['L_bol'][i])\n",
    "    vel.append(-parts['velocity'][i][2]*(3.086e16/3.154e7))\n",
    "plt.scatter(xs,ys,c=vel, s=2)\n",
    "plt.colorbar()\n",
    "plt.show()\n",
    "\n",
    "plt.scatter(xs,ys,c=L_bol, s=2)\n",
    "plt.colorbar()\n",
    "plt.show()\n",
    "\n",
    "\n"
   ]
  },
  {
   "cell_type": "code",
   "execution_count": null,
   "metadata": {
    "collapsed": false
   },
   "outputs": [],
   "source": [
    "\n",
    "plt.scatter(xs,ys,c=vel, vmin=-150, vmax=150,s=5, cmap='gist_rainbow_r', alpha=0.75)\n",
    "\n",
    "plt.colorbar(label=r'Velocity [km s$^{-1}$]')\n",
    "plt.xlim([-50,50])\n",
    "plt.ylim([-50,50])\n",
    "plt.show()"
   ]
  },
  {
   "cell_type": "code",
   "execution_count": null,
   "metadata": {
    "collapsed": true
   },
   "outputs": [],
   "source": [
    "print('done')"
   ]
  },
  {
   "cell_type": "code",
   "execution_count": 62,
   "metadata": {
    "collapsed": false
   },
   "outputs": [
    {
     "name": "stdout",
     "output_type": "stream",
     "text": [
      "Keys: KeysView(<HDF5 file \"snapshot_200.hdf5\" (mode r)>)\n",
      "<HDF5 group \"/Header\" (0 members)>\n",
      "<HDF5 group \"/PartType0\" (12 members)>\n",
      "<HDF5 group \"/PartType1\" (5 members)>\n",
      "<HDF5 group \"/PartType2\" (5 members)>\n",
      "<HDF5 group \"/PartType4\" (7 members)>\n",
      "<HDF5 group \"/PartType5\" (10 members)>\n",
      "Header\n",
      "PartType0\n",
      "PartType1\n",
      "PartType2\n",
      "PartType4\n",
      "PartType5\n",
      "<HDF5 group \"/PartType0\" (12 members)>\n",
      "(12,)\n",
      "<HDF5 group \"/PartType0\" (12 members)>\n",
      "#\tmr\tI00\n",
      "0\t0\t0\n",
      "1\t1\t1\n",
      "2\t2\t2\n",
      "3\t3\t3\n",
      "4\t4\t4\n",
      "5\t5\t5\n",
      "6\t6\t6\n",
      "7\t7\t7\n",
      "8\t8\t8\n",
      "9\t9\t9\n",
      "10\t10\t10\n",
      "11\t11\t11\n"
     ]
    }
   ],
   "source": [
    "snaps='../../q0.5_fg0.3_allrx10/snapshot_200.hdf5'\n",
    "\n",
    "import h5py\n",
    "f = h5py.File(snaps, 'r')\n",
    "print(\"Keys: %s\" % f.keys())\n",
    "\n",
    "for k in f.keys():print(f[k])\n",
    "datasetNames = [n for n in f.keys()]\n",
    "for n in datasetNames:\n",
    "    print(n)\n",
    "    \n",
    "set1=f['PartType0']\n",
    "print(set1)\n",
    "\n",
    "\n",
    "import h5py    # HDF5 support\n",
    "\n",
    "fileName = \"../../q0.5_fg0.3_allrx10/snapshot_200.hdf5\"\n",
    "f = h5py.File(fileName,  \"r\")\n",
    "for item in f.attrs.keys():\n",
    "    print(item + \":\", f.attrs[item])\n",
    "mr = f['PartType0']\n",
    "print(np.shape(mr))\n",
    "print(mr)\n",
    "i00 = f['PartType1']\n",
    "print(\"%s\\t%s\\t%s\" % (\"#\", \"mr\", \"I00\"))\n",
    "for i in range(len(mr)):\n",
    "    print(\"%d\\t%g\\t%d\" % (i, i, i))#, mr[i]))#, i00[i]))\n",
    "#f.close()\n"
   ]
  },
  {
   "cell_type": "code",
   "execution_count": null,
   "metadata": {
    "collapsed": true
   },
   "outputs": [],
   "source": []
  }
 ],
 "metadata": {
  "kernelspec": {
   "display_name": "Python 3",
   "language": "python",
   "name": "python3"
  },
  "language_info": {
   "codemirror_mode": {
    "name": "ipython",
    "version": 3
   },
   "file_extension": ".py",
   "mimetype": "text/x-python",
   "name": "python",
   "nbconvert_exporter": "python",
   "pygments_lexer": "ipython3",
   "version": "3.6.0"
  }
 },
 "nbformat": 4,
 "nbformat_minor": 2
}
